{
  "nbformat": 4,
  "nbformat_minor": 0,
  "metadata": {
    "colab": {
      "name": "problem2_r.ipynb",
      "provenance": [],
      "authorship_tag": "ABX9TyPB9xVPUEXptCluqBH5mGWQ",
      "include_colab_link": true
    },
    "kernelspec": {
      "name": "ir",
      "display_name": "R"
    },
    "language_info": {
      "name": "R"
    }
  },
  "cells": [
    {
      "cell_type": "markdown",
      "metadata": {
        "id": "view-in-github",
        "colab_type": "text"
      },
      "source": [
        "<a href=\"https://colab.research.google.com/github/J-Salt/IDS/blob/main/HW4/problem2_r.ipynb\" target=\"_parent\"><img src=\"https://colab.research.google.com/assets/colab-badge.svg\" alt=\"Open In Colab\"/></a>"
      ]
    },
    {
      "cell_type": "markdown",
      "source": [
        "#Importing the data\n",
        "---"
      ],
      "metadata": {
        "id": "T3feaWvldfjm"
      }
    },
    {
      "cell_type": "code",
      "execution_count": null,
      "metadata": {
        "colab": {
          "base_uri": "https://localhost:8080/",
          "height": 286
        },
        "id": "4iVVpEyTVfIF",
        "outputId": "5b8bd695-d8a6-48e4-e380-94ca35965b6f"
      },
      "outputs": [
        {
          "output_type": "display_data",
          "data": {
            "text/html": [
              "<table class=\"dataframe\">\n",
              "<caption>A tibble: 6 × 4</caption>\n",
              "<thead>\n",
              "\t<tr><th scope=col>food item</th><th scope=col>weight_in_grams</th><th scope=col>saturated_fat</th><th scope=col>cholesterol</th></tr>\n",
              "\t<tr><th scope=col>&lt;chr&gt;</th><th scope=col>&lt;dbl&gt;</th><th scope=col>&lt;dbl&gt;</th><th scope=col>&lt;dbl&gt;</th></tr>\n",
              "</thead>\n",
              "<tbody>\n",
              "\t<tr><td>GELATIN; DRY                  1 ENVELP</td><td>  7.00</td><td> 0.0</td><td> 0</td></tr>\n",
              "\t<tr><td>SEAWEED; SPIRULINA; DRIED     1 OZ    </td><td> 28.35</td><td> 0.8</td><td> 0</td></tr>\n",
              "\t<tr><td>YEAST; BAKERS; DRY; ACTIVE    1 PKG   </td><td>  7.00</td><td> 0.0</td><td> 0</td></tr>\n",
              "\t<tr><td>PARMESAN CHEESE; GRATED       1 OZ    </td><td> 28.35</td><td> 5.4</td><td>22</td></tr>\n",
              "\t<tr><td>PARMESAN CHEESE; GRATED       1 CUP   </td><td>100.00</td><td>19.1</td><td>79</td></tr>\n",
              "\t<tr><td>PARMESAN CHEESE; GRATED       1 TBSP  </td><td>  5.00</td><td> 1.0</td><td> 4</td></tr>\n",
              "</tbody>\n",
              "</table>\n"
            ],
            "text/markdown": "\nA tibble: 6 × 4\n\n| food item &lt;chr&gt; | weight_in_grams &lt;dbl&gt; | saturated_fat &lt;dbl&gt; | cholesterol &lt;dbl&gt; |\n|---|---|---|---|\n| GELATIN; DRY                  1 ENVELP |   7.00 |  0.0 |  0 |\n| SEAWEED; SPIRULINA; DRIED     1 OZ     |  28.35 |  0.8 |  0 |\n| YEAST; BAKERS; DRY; ACTIVE    1 PKG    |   7.00 |  0.0 |  0 |\n| PARMESAN CHEESE; GRATED       1 OZ     |  28.35 |  5.4 | 22 |\n| PARMESAN CHEESE; GRATED       1 CUP    | 100.00 | 19.1 | 79 |\n| PARMESAN CHEESE; GRATED       1 TBSP   |   5.00 |  1.0 |  4 |\n\n",
            "text/latex": "A tibble: 6 × 4\n\\begin{tabular}{llll}\n food item & weight\\_in\\_grams & saturated\\_fat & cholesterol\\\\\n <chr> & <dbl> & <dbl> & <dbl>\\\\\n\\hline\n\t GELATIN; DRY                  1 ENVELP &   7.00 &  0.0 &  0\\\\\n\t SEAWEED; SPIRULINA; DRIED     1 OZ     &  28.35 &  0.8 &  0\\\\\n\t YEAST; BAKERS; DRY; ACTIVE    1 PKG    &   7.00 &  0.0 &  0\\\\\n\t PARMESAN CHEESE; GRATED       1 OZ     &  28.35 &  5.4 & 22\\\\\n\t PARMESAN CHEESE; GRATED       1 CUP    & 100.00 & 19.1 & 79\\\\\n\t PARMESAN CHEESE; GRATED       1 TBSP   &   5.00 &  1.0 &  4\\\\\n\\end{tabular}\n",
            "text/plain": [
              "  food item                              weight_in_grams saturated_fat\n",
              "1 GELATIN; DRY                  1 ENVELP   7.00           0.0         \n",
              "2 SEAWEED; SPIRULINA; DRIED     1 OZ      28.35           0.8         \n",
              "3 YEAST; BAKERS; DRY; ACTIVE    1 PKG      7.00           0.0         \n",
              "4 PARMESAN CHEESE; GRATED       1 OZ      28.35           5.4         \n",
              "5 PARMESAN CHEESE; GRATED       1 CUP    100.00          19.1         \n",
              "6 PARMESAN CHEESE; GRATED       1 TBSP     5.00           1.0         \n",
              "  cholesterol\n",
              "1  0         \n",
              "2  0         \n",
              "3  0         \n",
              "4 22         \n",
              "5 79         \n",
              "6  4         "
            ]
          },
          "metadata": {}
        }
      ],
      "source": [
        "library(readr)\n",
        "nutrition_subset <- read_csv(\"https://raw.githubusercontent.com/J-Salt/IDS/main/HW4/nutrition_subset.csv\", show_col_types = FALSE)\n",
        "head(nutrition_subset)"
      ]
    },
    {
      "cell_type": "markdown",
      "source": [
        "#Printing the 5 foods highest in saturated fat\n",
        "---"
      ],
      "metadata": {
        "id": "2sKf7m9jdi1K"
      }
    },
    {
      "cell_type": "code",
      "source": [
        "head(nutrition_subset[order(nutrition_subset$saturated_fat, decreasing = TRUE),], 5)"
      ],
      "metadata": {
        "colab": {
          "base_uri": "https://localhost:8080/",
          "height": 327
        },
        "id": "8cpKFl3vV3gR",
        "outputId": "8069738b-19e1-4e72-e052-a746640acade"
      },
      "execution_count": null,
      "outputs": [
        {
          "output_type": "display_data",
          "data": {
            "text/html": [
              "<table class=\"dataframe\">\n",
              "<caption>A tibble: 5 × 5</caption>\n",
              "<thead>\n",
              "\t<tr><th scope=col>food item</th><th scope=col>weight_in_grams</th><th scope=col>saturated_fat</th><th scope=col>cholesterol</th><th scope=col>sat_fat_per_gram</th></tr>\n",
              "\t<tr><th scope=col>&lt;chr&gt;</th><th scope=col>&lt;dbl&gt;</th><th scope=col>&lt;dbl&gt;</th><th scope=col>&lt;dbl&gt;</th><th scope=col>&lt;dbl&gt;</th></tr>\n",
              "</thead>\n",
              "<tbody>\n",
              "\t<tr><td>CHEESECAKE                    1 CAKE </td><td>1110</td><td>119.9</td><td>2053</td><td>0.10801802</td></tr>\n",
              "\t<tr><td>ICE CREAM; VANLLA; RICH 16% FT1/2 GAL</td><td>1188</td><td>118.3</td><td> 703</td><td>0.09957912</td></tr>\n",
              "\t<tr><td>YELLOWCAKE W/ CHOCFRSTNG;COMML1 CAKE </td><td>1108</td><td> 92.0</td><td> 609</td><td>0.08303249</td></tr>\n",
              "\t<tr><td>CREME PIE                     1 PIE  </td><td> 910</td><td> 90.1</td><td>  46</td><td>0.09901099</td></tr>\n",
              "\t<tr><td>LARD                          1 CUP  </td><td> 205</td><td> 80.4</td><td> 195</td><td>0.39219512</td></tr>\n",
              "</tbody>\n",
              "</table>\n"
            ],
            "text/markdown": "\nA tibble: 5 × 5\n\n| food item &lt;chr&gt; | weight_in_grams &lt;dbl&gt; | saturated_fat &lt;dbl&gt; | cholesterol &lt;dbl&gt; | sat_fat_per_gram &lt;dbl&gt; |\n|---|---|---|---|---|\n| CHEESECAKE                    1 CAKE  | 1110 | 119.9 | 2053 | 0.10801802 |\n| ICE CREAM; VANLLA; RICH 16% FT1/2 GAL | 1188 | 118.3 |  703 | 0.09957912 |\n| YELLOWCAKE W/ CHOCFRSTNG;COMML1 CAKE  | 1108 |  92.0 |  609 | 0.08303249 |\n| CREME PIE                     1 PIE   |  910 |  90.1 |   46 | 0.09901099 |\n| LARD                          1 CUP   |  205 |  80.4 |  195 | 0.39219512 |\n\n",
            "text/latex": "A tibble: 5 × 5\n\\begin{tabular}{lllll}\n food item & weight\\_in\\_grams & saturated\\_fat & cholesterol & sat\\_fat\\_per\\_gram\\\\\n <chr> & <dbl> & <dbl> & <dbl> & <dbl>\\\\\n\\hline\n\t CHEESECAKE                    1 CAKE  & 1110 & 119.9 & 2053 & 0.10801802\\\\\n\t ICE CREAM; VANLLA; RICH 16\\% FT1/2 GAL & 1188 & 118.3 &  703 & 0.09957912\\\\\n\t YELLOWCAKE W/ CHOCFRSTNG;COMML1 CAKE  & 1108 &  92.0 &  609 & 0.08303249\\\\\n\t CREME PIE                     1 PIE   &  910 &  90.1 &   46 & 0.09901099\\\\\n\t LARD                          1 CUP   &  205 &  80.4 &  195 & 0.39219512\\\\\n\\end{tabular}\n",
            "text/plain": [
              "  food item                             weight_in_grams saturated_fat\n",
              "1 CHEESECAKE                    1 CAKE  1110            119.9        \n",
              "2 ICE CREAM; VANLLA; RICH 16% FT1/2 GAL 1188            118.3        \n",
              "3 YELLOWCAKE W/ CHOCFRSTNG;COMML1 CAKE  1108             92.0        \n",
              "4 CREME PIE                     1 PIE    910             90.1        \n",
              "5 LARD                          1 CUP    205             80.4        \n",
              "  cholesterol sat_fat_per_gram\n",
              "1 2053        0.10801802      \n",
              "2  703        0.09957912      \n",
              "3  609        0.08303249      \n",
              "4   46        0.09901099      \n",
              "5  195        0.39219512      "
            ]
          },
          "metadata": {}
        }
      ]
    },
    {
      "cell_type": "markdown",
      "source": [
        "#Printing the 5 foods with the highest saturated fat per gram\n",
        "---"
      ],
      "metadata": {
        "id": "GlAdx5bAdrs8"
      }
    },
    {
      "cell_type": "code",
      "source": [
        "nutrition_subset$sat_fat_per_gram <- nutrition_subset$saturated_fat / nutrition_subset$weight_in_grams\n",
        "head(nutrition_subset[order(nutrition_subset$sat_fat_per_gram, decreasing = TRUE),],5)"
      ],
      "metadata": {
        "colab": {
          "base_uri": "https://localhost:8080/",
          "height": 341
        },
        "id": "pW60RVUmW6HT",
        "outputId": "5de41545-615d-4b9b-ea0e-2115737d6840"
      },
      "execution_count": null,
      "outputs": [
        {
          "output_type": "display_data",
          "data": {
            "text/html": [
              "<table class=\"dataframe\">\n",
              "<caption>A tibble: 5 × 5</caption>\n",
              "<thead>\n",
              "\t<tr><th scope=col>food item</th><th scope=col>weight_in_grams</th><th scope=col>saturated_fat</th><th scope=col>cholesterol</th><th scope=col>sat_fat_per_gram</th></tr>\n",
              "\t<tr><th scope=col>&lt;chr&gt;</th><th scope=col>&lt;dbl&gt;</th><th scope=col>&lt;dbl&gt;</th><th scope=col>&lt;dbl&gt;</th><th scope=col>&lt;dbl&gt;</th></tr>\n",
              "</thead>\n",
              "<tbody>\n",
              "\t<tr><td>BUTTER; SALTED                1 TBSP </td><td> 14</td><td> 7.1</td><td> 31</td><td>0.5071429</td></tr>\n",
              "\t<tr><td>BUTTER; UNSALTED              1 TBSP </td><td> 14</td><td> 7.1</td><td> 31</td><td>0.5071429</td></tr>\n",
              "\t<tr><td>BUTTER; SALTED                1/2 CUP</td><td>113</td><td>57.1</td><td>247</td><td>0.5053097</td></tr>\n",
              "\t<tr><td>BUTTER; UNSALTED              1/2 CUP</td><td>113</td><td>57.1</td><td>247</td><td>0.5053097</td></tr>\n",
              "\t<tr><td>BUTTER; SALTED                1 PAT  </td><td>  5</td><td> 2.5</td><td> 11</td><td>0.5000000</td></tr>\n",
              "</tbody>\n",
              "</table>\n"
            ],
            "text/markdown": "\nA tibble: 5 × 5\n\n| food item &lt;chr&gt; | weight_in_grams &lt;dbl&gt; | saturated_fat &lt;dbl&gt; | cholesterol &lt;dbl&gt; | sat_fat_per_gram &lt;dbl&gt; |\n|---|---|---|---|---|\n| BUTTER; SALTED                1 TBSP  |  14 |  7.1 |  31 | 0.5071429 |\n| BUTTER; UNSALTED              1 TBSP  |  14 |  7.1 |  31 | 0.5071429 |\n| BUTTER; SALTED                1/2 CUP | 113 | 57.1 | 247 | 0.5053097 |\n| BUTTER; UNSALTED              1/2 CUP | 113 | 57.1 | 247 | 0.5053097 |\n| BUTTER; SALTED                1 PAT   |   5 |  2.5 |  11 | 0.5000000 |\n\n",
            "text/latex": "A tibble: 5 × 5\n\\begin{tabular}{lllll}\n food item & weight\\_in\\_grams & saturated\\_fat & cholesterol & sat\\_fat\\_per\\_gram\\\\\n <chr> & <dbl> & <dbl> & <dbl> & <dbl>\\\\\n\\hline\n\t BUTTER; SALTED                1 TBSP  &  14 &  7.1 &  31 & 0.5071429\\\\\n\t BUTTER; UNSALTED              1 TBSP  &  14 &  7.1 &  31 & 0.5071429\\\\\n\t BUTTER; SALTED                1/2 CUP & 113 & 57.1 & 247 & 0.5053097\\\\\n\t BUTTER; UNSALTED              1/2 CUP & 113 & 57.1 & 247 & 0.5053097\\\\\n\t BUTTER; SALTED                1 PAT   &   5 &  2.5 &  11 & 0.5000000\\\\\n\\end{tabular}\n",
            "text/plain": [
              "  food item                             weight_in_grams saturated_fat\n",
              "1 BUTTER; SALTED                1 TBSP   14              7.1         \n",
              "2 BUTTER; UNSALTED              1 TBSP   14              7.1         \n",
              "3 BUTTER; SALTED                1/2 CUP 113             57.1         \n",
              "4 BUTTER; UNSALTED              1/2 CUP 113             57.1         \n",
              "5 BUTTER; SALTED                1 PAT     5              2.5         \n",
              "  cholesterol sat_fat_per_gram\n",
              "1  31         0.5071429       \n",
              "2  31         0.5071429       \n",
              "3 247         0.5053097       \n",
              "4 247         0.5053097       \n",
              "5  11         0.5000000       "
            ]
          },
          "metadata": {}
        }
      ]
    },
    {
      "cell_type": "markdown",
      "source": [
        "#Using ZScore to find outliers in saturated fat per gram\n",
        "---"
      ],
      "metadata": {
        "id": "7vvaeMZZdzHt"
      }
    },
    {
      "cell_type": "code",
      "source": [
        "nutrition_subset$scaled_sat_fat_per_gram <- scale(x = nutrition_subset$sat_fat_per_gram)\n",
        "\n",
        "three_sigma_rule <- (nutrition_subset$scaled_sat_fat_per_gram < -3 | \n",
        "                     nutrition_subset$scaled_sat_fat_per_gram > 3 )\n",
        "\n",
        "\n",
        "\n",
        "cat (\"There are\", sum(three_sigma_rule), \"outliers \\n\\n\")\n",
        "\n",
        "\n",
        "\n",
        "cat(\"The scaled values that are outliers: \\n\\n\")\n",
        "nutrition_subset$scaled_sat_fat_per_gram[which(three_sigma_rule)]\n",
        "\n",
        "summary(nutrition_subset$scaled_sat_fat_per_gram)\n",
        "summary(nutrition_subset$sat_fat_per_gram)\n",
        "\n",
        "\n"
      ],
      "metadata": {
        "colab": {
          "base_uri": "https://localhost:8080/",
          "height": 317
        },
        "id": "vAYGjLuHXKA4",
        "outputId": "b992d70b-f126-45df-ca2d-8b6443aa6b58"
      },
      "execution_count": null,
      "outputs": [
        {
          "output_type": "stream",
          "name": "stdout",
          "text": [
            "There are 15 outliers \n",
            "\n",
            "The scaled values that are outliers: \n",
            "\n"
          ]
        },
        {
          "output_type": "display_data",
          "data": {
            "text/html": [
              "<style>\n",
              ".list-inline {list-style: none; margin:0; padding: 0}\n",
              ".list-inline>li {display: inline-block}\n",
              ".list-inline>li:not(:last-child)::after {content: \"\\00b7\"; padding: 0 .5ex}\n",
              "</style>\n",
              "<ol class=list-inline><li>4.23846914186069</li><li>3.93663696749015</li><li>4.20207816592171</li><li>3.94083741524481</li><li>7.0790551253279</li><li>7.0790551253279</li><li>5.36857985204816</li><li>3.27652044727709</li><li>5.37028209729208</li><li>3.22204859947182</li><li>7.10677489432831</li><li>7.10677489432831</li><li>6.99876338063706</li><li>6.99876338063706</li><li>4.73052159312083</li></ol>\n"
            ],
            "text/markdown": "1. 4.23846914186069\n2. 3.93663696749015\n3. 4.20207816592171\n4. 3.94083741524481\n5. 7.0790551253279\n6. 7.0790551253279\n7. 5.36857985204816\n8. 3.27652044727709\n9. 5.37028209729208\n10. 3.22204859947182\n11. 7.10677489432831\n12. 7.10677489432831\n13. 6.99876338063706\n14. 6.99876338063706\n15. 4.73052159312083\n\n\n",
            "text/latex": "\\begin{enumerate*}\n\\item 4.23846914186069\n\\item 3.93663696749015\n\\item 4.20207816592171\n\\item 3.94083741524481\n\\item 7.0790551253279\n\\item 7.0790551253279\n\\item 5.36857985204816\n\\item 3.27652044727709\n\\item 5.37028209729208\n\\item 3.22204859947182\n\\item 7.10677489432831\n\\item 7.10677489432831\n\\item 6.99876338063706\n\\item 6.99876338063706\n\\item 4.73052159312083\n\\end{enumerate*}\n",
            "text/plain": [
              " [1] 4.238469 3.936637 4.202078 3.940837 7.079055 7.079055 5.368580 3.276520\n",
              " [9] 5.370282 3.222049 7.106775 7.106775 6.998763 6.998763 4.730522"
            ]
          },
          "metadata": {}
        },
        {
          "output_type": "display_data",
          "data": {
            "text/plain": [
              "       V1         \n",
              " Min.   :-0.5620  \n",
              " 1st Qu.:-0.5620  \n",
              " Median :-0.4411  \n",
              " Mean   : 0.0000  \n",
              " 3rd Qu.: 0.1539  \n",
              " Max.   : 7.1068  "
            ]
          },
          "metadata": {}
        },
        {
          "output_type": "display_data",
          "data": {
            "text/plain": [
              "   Min. 1st Qu.  Median    Mean 3rd Qu.    Max. \n",
              "0.00000 0.00000 0.00800 0.03717 0.04735 0.50714 "
            ]
          },
          "metadata": {}
        }
      ]
    },
    {
      "cell_type": "markdown",
      "source": [
        "#Using ZScore to scale the other numerical values\n",
        "---"
      ],
      "metadata": {
        "id": "VthQcghVd9gl"
      }
    },
    {
      "cell_type": "code",
      "source": [
        "#Zero mean the numerical values\n",
        "#Cholesterol\n",
        "nutrition_subset$scaled_cholesterol <- scale(x = nutrition_subset$cholesterol)\n",
        "\n",
        "three_sigma_rule <- (nutrition_subset$scaled_cholesterol < -3 | \n",
        "                     nutrition_subset$scaled_cholesterol > 3 )\n",
        "\n",
        "\n",
        "\n",
        "cat (\"There are\", sum(three_sigma_rule), \"outliers \\n\\n\")\n",
        "\n",
        "\n",
        "\n",
        "cat(\"The scaled values that are outliers: \\n\\n\")\n",
        "nutrition_subset$scaled_cholesterol[which(three_sigma_rule)]\n",
        "\n",
        "summary(nutrition_subset$scaled_cholesterol)\n",
        "summary(nutrition_subset$cholesterol)\n",
        "\n",
        "#Weight\n",
        "nutrition_subset$scaled_weight_in_grams <- scale(x = nutrition_subset$weight_in_grams)\n",
        "\n",
        "three_sigma_rule <- (nutrition_subset$scaled_weight_in_grams < -3 | \n",
        "                     nutrition_subset$scaled_weight_in_grams > 3 )\n",
        "\n",
        "\n",
        "\n",
        "cat (\"There are\", sum(three_sigma_rule), \"outliers \\n\\n\")\n",
        "\n",
        "\n",
        "\n",
        "cat(\"The scaled values that are outliers: \\n\\n\")\n",
        "nutrition_subset$scaled_weight_in_grams[which(three_sigma_rule)]\n",
        "\n",
        "summary(nutrition_subset$scaled_weight_in_grams)\n",
        "summary(nutrition_subset$weight_in_grams)\n"
      ],
      "metadata": {
        "colab": {
          "base_uri": "https://localhost:8080/",
          "height": 652
        },
        "id": "C5F1K-nlZ3-c",
        "outputId": "9435b608-0ec0-46ba-c05e-20e07809974b"
      },
      "execution_count": null,
      "outputs": [
        {
          "output_type": "stream",
          "name": "stdout",
          "text": [
            "There are 17 outliers \n",
            "\n",
            "The scaled values that are outliers: \n",
            "\n"
          ]
        },
        {
          "output_type": "display_data",
          "data": {
            "text/html": [
              "<style>\n",
              ".list-inline {list-style: none; margin:0; padding: 0}\n",
              ".list-inline>li {display: inline-block}\n",
              ".list-inline>li:not(:last-child)::after {content: \"\\00b7\"; padding: 0 .5ex}\n",
              "</style>\n",
              "<ol class=list-inline><li>3.1464200795253</li><li>4.35515037727471</li><li>8.14806269090217</li><li>5.06371641388643</li><li>16.842584763679</li><li>8.8983090826087</li><li>4.47185537154017</li><li>4.33014216421782</li><li>4.71360143109005</li><li>9.5902029771825</li><li>4.5302078686729</li><li>5.18875747917085</li><li>6.87264382500106</li><li>4.80529821229863</li><li>3.69660076677675</li><li>5.03037212981059</li><li>5.588888888081</li></ol>\n"
            ],
            "text/markdown": "1. 3.1464200795253\n2. 4.35515037727471\n3. 8.14806269090217\n4. 5.06371641388643\n5. 16.842584763679\n6. 8.8983090826087\n7. 4.47185537154017\n8. 4.33014216421782\n9. 4.71360143109005\n10. 9.5902029771825\n11. 4.5302078686729\n12. 5.18875747917085\n13. 6.87264382500106\n14. 4.80529821229863\n15. 3.69660076677675\n16. 5.03037212981059\n17. 5.588888888081\n\n\n",
            "text/latex": "\\begin{enumerate*}\n\\item 3.1464200795253\n\\item 4.35515037727471\n\\item 8.14806269090217\n\\item 5.06371641388643\n\\item 16.842584763679\n\\item 8.8983090826087\n\\item 4.47185537154017\n\\item 4.33014216421782\n\\item 4.71360143109005\n\\item 9.5902029771825\n\\item 4.5302078686729\n\\item 5.18875747917085\n\\item 6.87264382500106\n\\item 4.80529821229863\n\\item 3.69660076677675\n\\item 5.03037212981059\n\\item 5.588888888081\n\\end{enumerate*}\n",
            "text/plain": [
              " [1]  3.146420  4.355150  8.148063  5.063716 16.842585  8.898309  4.471855\n",
              " [8]  4.330142  4.713601  9.590203  4.530208  5.188757  6.872644  4.805298\n",
              "[15]  3.696601  5.030372  5.588889"
            ]
          },
          "metadata": {}
        },
        {
          "output_type": "display_data",
          "data": {
            "text/plain": [
              "       V1         \n",
              " Min.   :-0.2714  \n",
              " 1st Qu.:-0.2714  \n",
              " Median :-0.2714  \n",
              " Mean   : 0.0000  \n",
              " 3rd Qu.:-0.1046  \n",
              " Max.   :16.8426  "
            ]
          },
          "metadata": {}
        },
        {
          "output_type": "display_data",
          "data": {
            "text/plain": [
              "   Min. 1st Qu.  Median    Mean 3rd Qu.    Max. \n",
              "   0.00    0.00    0.00   32.55   20.00 2053.00 "
            ]
          },
          "metadata": {}
        },
        {
          "output_type": "stream",
          "name": "stdout",
          "text": [
            "There are 22 outliers \n",
            "\n",
            "The scaled values that are outliers: \n",
            "\n"
          ]
        },
        {
          "output_type": "display_data",
          "data": {
            "text/html": [
              "<style>\n",
              ".list-inline {list-style: none; margin:0; padding: 0}\n",
              ".list-inline>li {display: inline-block}\n",
              ".list-inline>li:not(:last-child)::after {content: \"\\00b7\"; padding: 0 .5ex}\n",
              "</style>\n",
              "<ol class=list-inline><li>4.32376451930241</li><li>6.88758493609249</li><li>5.46071370634901</li><li>3.8405611148076</li><li>3.56769330991642</li><li>5.44365946854331</li><li>7.88241547475827</li><li>5.44934421447854</li><li>4.32376451930241</li><li>5.10825945836456</li><li>5.631256084406</li><li>3.9258323038361</li><li>5.44934421447854</li><li>5.19921539332829</li><li>5.38112726325575</li><li>5.90412388929718</li><li>4.52273062703556</li><li>4.52273062703556</li><li>4.52273062703556</li><li>4.52273062703556</li><li>4.32376451930241</li><li>7.91652395036966</li></ol>\n"
            ],
            "text/markdown": "1. 4.32376451930241\n2. 6.88758493609249\n3. 5.46071370634901\n4. 3.8405611148076\n5. 3.56769330991642\n6. 5.44365946854331\n7. 7.88241547475827\n8. 5.44934421447854\n9. 4.32376451930241\n10. 5.10825945836456\n11. 5.631256084406\n12. 3.9258323038361\n13. 5.44934421447854\n14. 5.19921539332829\n15. 5.38112726325575\n16. 5.90412388929718\n17. 4.52273062703556\n18. 4.52273062703556\n19. 4.52273062703556\n20. 4.52273062703556\n21. 4.32376451930241\n22. 7.91652395036966\n\n\n",
            "text/latex": "\\begin{enumerate*}\n\\item 4.32376451930241\n\\item 6.88758493609249\n\\item 5.46071370634901\n\\item 3.8405611148076\n\\item 3.56769330991642\n\\item 5.44365946854331\n\\item 7.88241547475827\n\\item 5.44934421447854\n\\item 4.32376451930241\n\\item 5.10825945836456\n\\item 5.631256084406\n\\item 3.9258323038361\n\\item 5.44934421447854\n\\item 5.19921539332829\n\\item 5.38112726325575\n\\item 5.90412388929718\n\\item 4.52273062703556\n\\item 4.52273062703556\n\\item 4.52273062703556\n\\item 4.52273062703556\n\\item 4.32376451930241\n\\item 7.91652395036966\n\\end{enumerate*}\n",
            "text/plain": [
              " [1] 4.323765 6.887585 5.460714 3.840561 3.567693 5.443659 7.882415 5.449344\n",
              " [9] 4.323765 5.108259 5.631256 3.925832 5.449344 5.199215 5.381127 5.904124\n",
              "[17] 4.522731 4.522731 4.522731 4.522731 4.323765 7.916524"
            ]
          },
          "metadata": {}
        },
        {
          "output_type": "display_data",
          "data": {
            "text/plain": [
              "       V1         \n",
              " Min.   :-0.8471  \n",
              " 1st Qu.:-0.6674  \n",
              " Median :-0.2070  \n",
              " Mean   : 0.0000  \n",
              " 3rd Qu.: 0.3899  \n",
              " Max.   : 7.9165  "
            ]
          },
          "metadata": {}
        },
        {
          "output_type": "display_data",
          "data": {
            "text/plain": [
              "   Min. 1st Qu.  Median    Mean 3rd Qu.    Max. \n",
              "    0.4    32.0   113.0   149.4   218.0  1542.0 "
            ]
          },
          "metadata": {}
        }
      ]
    },
    {
      "cell_type": "markdown",
      "source": [
        "#Summary\n",
        "---\n",
        "By comparing foods, especially on this list, by just saturated fat content isn't a valid measure of unhealthy foods. This is because this doesn't account for the size of the food which could be an entire cake. The food with the highest saturated fat per gram had 0.50714 grams of saturated fat per gram of food. There were 15 outliers in the saturated fat per gram. These all came from the high end of the scale, and none were outside the lower bounds of 3 standard deviations. I did not find any missing values as I could not interpret zeros in cholesterol or saturated fat as missing since its possible for foods to have zero of both. I did check to make sure everything had a weight and that was true so therefore I did not have to deal with missing values. Lastly, I found 17 cholesterol outliers and 22 weight outliers in this data set. They were all above 3 standard deviations from the mean."
      ],
      "metadata": {
        "id": "nJfh8XtieCxr"
      }
    }
  ]
}