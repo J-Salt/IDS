{
  "nbformat": 4,
  "nbformat_minor": 0,
  "metadata": {
    "colab": {
      "name": "problem1_r.ipynb",
      "provenance": [],
      "authorship_tag": "ABX9TyMi+vCtwpWxsIQKpfV7WRXV",
      "include_colab_link": true
    },
    "kernelspec": {
      "name": "ir",
      "display_name": "R"
    },
    "language_info": {
      "name": "R"
    }
  },
  "cells": [
    {
      "cell_type": "markdown",
      "metadata": {
        "id": "view-in-github",
        "colab_type": "text"
      },
      "source": [
        "<a href=\"https://colab.research.google.com/github/J-Salt/IDS/blob/main/HW4/problem1_r.ipynb\" target=\"_parent\"><img src=\"https://colab.research.google.com/assets/colab-badge.svg\" alt=\"Open In Colab\"/></a>"
      ]
    },
    {
      "cell_type": "markdown",
      "source": [
        "#Importing Table\n",
        "---"
      ],
      "metadata": {
        "id": "oeZ40YpPbE2K"
      }
    },
    {
      "cell_type": "code",
      "execution_count": null,
      "metadata": {
        "colab": {
          "base_uri": "https://localhost:8080/",
          "height": 497
        },
        "id": "gDYqxzJLr3Rl",
        "outputId": "3eb7c47b-aa82-4f7d-fd7d-0393b5bfb0a5"
      },
      "outputs": [
        {
          "output_type": "display_data",
          "data": {
            "text/html": [
              "<table class=\"dataframe\">\n",
              "<caption>A tibble: 6 × 9</caption>\n",
              "<thead>\n",
              "\t<tr><th scope=col>age</th><th scope=col>workclass</th><th scope=col>education</th><th scope=col>marital-status</th><th scope=col>occupation</th><th scope=col>sex</th><th scope=col>capital-gain</th><th scope=col>capital-loss</th><th scope=col>income</th></tr>\n",
              "\t<tr><th scope=col>&lt;dbl&gt;</th><th scope=col>&lt;chr&gt;</th><th scope=col>&lt;dbl&gt;</th><th scope=col>&lt;chr&gt;</th><th scope=col>&lt;chr&gt;</th><th scope=col>&lt;chr&gt;</th><th scope=col>&lt;dbl&gt;</th><th scope=col>&lt;dbl&gt;</th><th scope=col>&lt;chr&gt;</th></tr>\n",
              "</thead>\n",
              "<tbody>\n",
              "\t<tr><td>50</td><td>Self-emp-not-inc</td><td>13</td><td><span style=white-space:pre-wrap>Married-civ-spouse   </span></td><td><span style=white-space:pre-wrap>Exec-managerial  </span></td><td><span style=white-space:pre-wrap>Male  </span></td><td><span style=white-space:pre-wrap>    0</span></td><td>0</td><td>&lt;=50K</td></tr>\n",
              "\t<tr><td>38</td><td><span style=white-space:pre-wrap>Private         </span></td><td> 9</td><td><span style=white-space:pre-wrap>Divorced             </span></td><td>Handlers-cleaners</td><td><span style=white-space:pre-wrap>Male  </span></td><td><span style=white-space:pre-wrap>    0</span></td><td>0</td><td>&lt;=50K</td></tr>\n",
              "\t<tr><td>49</td><td><span style=white-space:pre-wrap>Private         </span></td><td> 5</td><td>Married-spouse-absent</td><td><span style=white-space:pre-wrap>Other-service    </span></td><td>Female</td><td><span style=white-space:pre-wrap>    0</span></td><td>0</td><td>&lt;=50K</td></tr>\n",
              "\t<tr><td>52</td><td>Self-emp-not-inc</td><td> 9</td><td><span style=white-space:pre-wrap>Married-civ-spouse   </span></td><td><span style=white-space:pre-wrap>Exec-managerial  </span></td><td><span style=white-space:pre-wrap>Male  </span></td><td><span style=white-space:pre-wrap>    0</span></td><td>0</td><td>&gt;50K </td></tr>\n",
              "\t<tr><td>31</td><td><span style=white-space:pre-wrap>Private         </span></td><td>14</td><td><span style=white-space:pre-wrap>Never-married        </span></td><td><span style=white-space:pre-wrap>Prof-specialty   </span></td><td>Female</td><td>14084</td><td>0</td><td>&gt;50K </td></tr>\n",
              "\t<tr><td>40</td><td><span style=white-space:pre-wrap>Private         </span></td><td>11</td><td><span style=white-space:pre-wrap>Married-civ-spouse   </span></td><td><span style=white-space:pre-wrap>Craft-repair     </span></td><td><span style=white-space:pre-wrap>Male  </span></td><td><span style=white-space:pre-wrap>    0</span></td><td>0</td><td>&gt;50K </td></tr>\n",
              "</tbody>\n",
              "</table>\n"
            ],
            "text/markdown": "\nA tibble: 6 × 9\n\n| age &lt;dbl&gt; | workclass &lt;chr&gt; | education &lt;dbl&gt; | marital-status &lt;chr&gt; | occupation &lt;chr&gt; | sex &lt;chr&gt; | capital-gain &lt;dbl&gt; | capital-loss &lt;dbl&gt; | income &lt;chr&gt; |\n|---|---|---|---|---|---|---|---|---|\n| 50 | Self-emp-not-inc | 13 | Married-civ-spouse    | Exec-managerial   | Male   |     0 | 0 | &lt;=50K |\n| 38 | Private          |  9 | Divorced              | Handlers-cleaners | Male   |     0 | 0 | &lt;=50K |\n| 49 | Private          |  5 | Married-spouse-absent | Other-service     | Female |     0 | 0 | &lt;=50K |\n| 52 | Self-emp-not-inc |  9 | Married-civ-spouse    | Exec-managerial   | Male   |     0 | 0 | &gt;50K  |\n| 31 | Private          | 14 | Never-married         | Prof-specialty    | Female | 14084 | 0 | &gt;50K  |\n| 40 | Private          | 11 | Married-civ-spouse    | Craft-repair      | Male   |     0 | 0 | &gt;50K  |\n\n",
            "text/latex": "A tibble: 6 × 9\n\\begin{tabular}{lllllllll}\n age & workclass & education & marital-status & occupation & sex & capital-gain & capital-loss & income\\\\\n <dbl> & <chr> & <dbl> & <chr> & <chr> & <chr> & <dbl> & <dbl> & <chr>\\\\\n\\hline\n\t 50 & Self-emp-not-inc & 13 & Married-civ-spouse    & Exec-managerial   & Male   &     0 & 0 & <=50K\\\\\n\t 38 & Private          &  9 & Divorced              & Handlers-cleaners & Male   &     0 & 0 & <=50K\\\\\n\t 49 & Private          &  5 & Married-spouse-absent & Other-service     & Female &     0 & 0 & <=50K\\\\\n\t 52 & Self-emp-not-inc &  9 & Married-civ-spouse    & Exec-managerial   & Male   &     0 & 0 & >50K \\\\\n\t 31 & Private          & 14 & Never-married         & Prof-specialty    & Female & 14084 & 0 & >50K \\\\\n\t 40 & Private          & 11 & Married-civ-spouse    & Craft-repair      & Male   &     0 & 0 & >50K \\\\\n\\end{tabular}\n",
            "text/plain": [
              "  age workclass        education marital-status        occupation        sex   \n",
              "1 50  Self-emp-not-inc 13        Married-civ-spouse    Exec-managerial   Male  \n",
              "2 38  Private           9        Divorced              Handlers-cleaners Male  \n",
              "3 49  Private           5        Married-spouse-absent Other-service     Female\n",
              "4 52  Self-emp-not-inc  9        Married-civ-spouse    Exec-managerial   Male  \n",
              "5 31  Private          14        Never-married         Prof-specialty    Female\n",
              "6 40  Private          11        Married-civ-spouse    Craft-repair      Male  \n",
              "  capital-gain capital-loss income\n",
              "1     0        0            <=50K \n",
              "2     0        0            <=50K \n",
              "3     0        0            <=50K \n",
              "4     0        0            >50K  \n",
              "5 14084        0            >50K  \n",
              "6     0        0            >50K  "
            ]
          },
          "metadata": {}
        }
      ],
      "source": [
        "library(readr)\n",
        "adultTraining <- read_csv(\"https://raw.githubusercontent.com/J-Salt/IDS/main/HW4/adult_training.csv\", show_col_types = FALSE)\n",
        "head(adultTraining)"
      ]
    },
    {
      "cell_type": "markdown",
      "source": [
        "#Creating a Contingency Table\n",
        "---\n",
        "This contingency table summarizes the work class and sex of the workers"
      ],
      "metadata": {
        "id": "eZcWn2MWbJgY"
      }
    },
    {
      "cell_type": "code",
      "source": [
        "library(\"ggplot2\")\n",
        "workSexTable <- table(adultTraining$workclass, adultTraining$sex)\n",
        "\n",
        "ftable(workSexTable)\n",
        "\n",
        "ggplot(as.data.frame(workSexTable), aes(x = 'workclass', y = Freq, fill = Var1)) +\n",
        "geom_bar(stat=\"identity\", position = \"dodge\")"
      ],
      "metadata": {
        "colab": {
          "base_uri": "https://localhost:8080/",
          "height": 632
        },
        "id": "kQ5vs8f8LVvj",
        "outputId": "5c50bc73-61d5-4b4e-dbdd-994af584f933"
      },
      "execution_count": null,
      "outputs": [
        {
          "output_type": "display_data",
          "data": {
            "text/plain": [
              "                  Female Male\n",
              "                             \n",
              "?                    377  452\n",
              "Federal-gov          149  305\n",
              "Local-gov            377  592\n",
              "Never-worked           1    4\n",
              "Private             3574 6707\n",
              "Self-emp-inc          54  444\n",
              "Self-emp-not-inc     178  992\n",
              "State-gov            201  385\n",
              "Without-pay            1    4"
            ]
          },
          "metadata": {}
        },
        {
          "output_type": "display_data",
          "data": {
            "text/plain": [
              "plot without title"
            ],
            "image/png": "[encoded data removed]"
          },
          "metadata": {
            "image/png": {
              "width": 420,
              "height": 420
            }
          }
        }
      ]
    },
    {
      "cell_type": "markdown",
      "source": [
        "#Creating a Contingency Table Again\n",
        "---\n",
        "This contingency table summarizes the sex and marital status of the workers"
      ],
      "metadata": {
        "id": "ozBylOTxbgsE"
      }
    },
    {
      "cell_type": "code",
      "source": [
        "sexMaritalTable <- table(adultTraining$sex, adultTraining$`marital-status`)\n",
        "\n",
        "ftable(sexMaritalTable)\n",
        "\n",
        "ggplot(as.data.frame(sexMaritalTable), aes(x = 'sex', y = Freq, fill = Var1)) +\n",
        "geom_bar(stat=\"identity\", position = \"dodge\")"
      ],
      "metadata": {
        "colab": {
          "base_uri": "https://localhost:8080/",
          "height": 528
        },
        "id": "pkjPtv7iL1fK",
        "outputId": "f648ea30-88dc-45f1-bb26-557f49bc1b60"
      },
      "execution_count": null,
      "outputs": [
        {
          "output_type": "display_data",
          "data": {
            "text/plain": [
              "        Divorced Married-AF-spouse Married-civ-spouse Married-spouse-absent Never-married Separated Widowed\n",
              "                                                                                                           \n",
              "Female      1219                 7                761                    95          2160       290     380\n",
              "Male         795                 4               6010                   104          2717       182      73"
            ]
          },
          "metadata": {}
        },
        {
          "output_type": "display_data",
          "data": {
            "text/plain": [
              "plot without title"
            ],
            "image/png": "[encoded data removed]"
          },
          "metadata": {
            "image/png": {
              "width": 420,
              "height": 420
            }
          }
        }
      ]
    },
    {
      "cell_type": "markdown",
      "source": [
        "#Displaying the workers that are over 40\n",
        "---"
      ],
      "metadata": {
        "id": "6aow84Inbnba"
      }
    },
    {
      "cell_type": "code",
      "source": [
        "adultOver40 <- (adultTraining$age > 50)\n",
        "cat(\"Those over 40:\")\n",
        "adultTraining$age[which(adultOver40)]\n"
      ],
      "metadata": {
        "colab": {
          "base_uri": "https://localhost:8080/",
          "height": 347
        },
        "id": "lJ4mACJeM0PT",
        "outputId": "c707359a-125d-4619-eed6-7c8e7d4e3470"
      },
      "execution_count": null,
      "outputs": [
        {
          "output_type": "stream",
          "name": "stdout",
          "text": [
            "Those over 40:"
          ]
        },
        {
          "output_type": "display_data",
          "data": {
            "text/html": [
              "<style>\n",
              ".list-inline {list-style: none; margin:0; padding: 0}\n",
              ".list-inline>li {display: inline-block}\n",
              ".list-inline>li:not(:last-child)::after {content: \"\\00b7\"; padding: 0 .5ex}\n",
              "</style>\n",
              "<ol class=list-inline><li>52</li><li>54</li><li>53</li><li>79</li><li>52</li><li>59</li><li>76</li><li>53</li><li>56</li><li>61</li><li>52</li><li>71</li><li>68</li><li>66</li><li>51</li><li>53</li><li>51</li><li>60</li><li>54</li><li>90</li><li>54</li><li>53</li><li>66</li><li>75</li><li>59</li><li>56</li><li>58</li><li>59</li><li>64</li><li>65</li><li>55</li><li>77</li><li>62</li><li>76</li><li>63</li><li>58</li><li>66</li><li>53</li><li>67</li><li>56</li><li>59</li><li>62</li><li>56</li><li>57</li><li>54</li><li>52</li><li>52</li><li>63</li><li>80</li><li>52</li><li>67</li><li>72</li><li>53</li><li>74</li><li>67</li><li>57</li><li>58</li><li>72</li><li>65</li><li>57</li><li>51</li><li>52</li><li>71</li><li>58</li><li>70</li><li>58</li><li>66</li><li>65</li><li>56</li><li>58</li><li>54</li><li>59</li><li>53</li><li>55</li><li>61</li><li>61</li><li>68</li><li>56</li><li>73</li><li>72</li><li>55</li><li>62</li><li>55</li><li>61</li><li>71</li><li>63</li><li>63</li><li>53</li><li>51</li><li>54</li><li>51</li><li>55</li><li>60</li><li>63</li><li>51</li><li>58</li><li>54</li><li>51</li><li>90</li><li>52</li><li>54</li><li>62</li><li>58</li><li>53</li><li>59</li><li>61</li><li>54</li><li>88</li><li>58</li><li>51</li><li>65</li><li>51</li><li>59</li><li>54</li><li>53</li><li>52</li><li>52</li><li>73</li><li>51</li><li>52</li><li>58</li><li>61</li><li>55</li><li>52</li><li>51</li><li>71</li><li>57</li><li>59</li><li>58</li><li>52</li><li>54</li><li>54</li><li>53</li><li>52</li><li>53</li><li>57</li><li>58</li><li>61</li><li>51</li><li>76</li><li>70</li><li>61</li><li>69</li><li>53</li><li>53</li><li>60</li><li>66</li><li>59</li><li>59</li><li>62</li><li>75</li><li>51</li><li>51</li><li>65</li><li>57</li><li>60</li><li>61</li><li>67</li><li>54</li><li>52</li><li>55</li><li>71</li><li>59</li><li>62</li><li>52</li><li>64</li><li>53</li><li>51</li><li>56</li><li>73</li><li>51</li><li>55</li><li>51</li><li>65</li><li>71</li><li>51</li><li>66</li><li>52</li><li>52</li><li>57</li><li>52</li><li>51</li><li>56</li><li>53</li><li>63</li><li>60</li><li>68</li><li>62</li><li>90</li><li>57</li><li>77</li><li>66</li><li>68</li><li>64</li><li>60</li><li>54</li><li>51</li><li>57</li><li>63</li><li>61</li><li>⋯</li><li>54</li><li>66</li><li>51</li><li>61</li><li>55</li><li>55</li><li>60</li><li>57</li><li>57</li><li>51</li><li>64</li><li>52</li><li>63</li><li>72</li><li>70</li><li>65</li><li>72</li><li>54</li><li>51</li><li>53</li><li>65</li><li>68</li><li>60</li><li>64</li><li>58</li><li>62</li><li>51</li><li>66</li><li>67</li><li>57</li><li>57</li><li>57</li><li>59</li><li>53</li><li>67</li><li>56</li><li>52</li><li>60</li><li>51</li><li>57</li><li>59</li><li>55</li><li>61</li><li>75</li><li>56</li><li>57</li><li>75</li><li>69</li><li>57</li><li>51</li><li>55</li><li>60</li><li>59</li><li>53</li><li>58</li><li>61</li><li>90</li><li>60</li><li>57</li><li>54</li><li>52</li><li>53</li><li>55</li><li>59</li><li>63</li><li>51</li><li>53</li><li>53</li><li>52</li><li>55</li><li>67</li><li>51</li><li>51</li><li>60</li><li>53</li><li>52</li><li>74</li><li>65</li><li>61</li><li>51</li><li>55</li><li>54</li><li>62</li><li>51</li><li>57</li><li>61</li><li>64</li><li>70</li><li>59</li><li>87</li><li>55</li><li>61</li><li>51</li><li>54</li><li>57</li><li>52</li><li>66</li><li>55</li><li>54</li><li>66</li><li>61</li><li>57</li><li>52</li><li>57</li><li>63</li><li>54</li><li>51</li><li>68</li><li>54</li><li>61</li><li>53</li><li>61</li><li>58</li><li>62</li><li>58</li><li>72</li><li>60</li><li>57</li><li>61</li><li>58</li><li>61</li><li>59</li><li>58</li><li>52</li><li>51</li><li>53</li><li>80</li><li>58</li><li>63</li><li>53</li><li>51</li><li>82</li><li>61</li><li>59</li><li>55</li><li>62</li><li>68</li><li>57</li><li>53</li><li>52</li><li>52</li><li>62</li><li>53</li><li>70</li><li>52</li><li>56</li><li>51</li><li>60</li><li>55</li><li>59</li><li>65</li><li>54</li><li>66</li><li>62</li><li>55</li><li>63</li><li>59</li><li>52</li><li>67</li><li>72</li><li>53</li><li>58</li><li>51</li><li>51</li><li>63</li><li>60</li><li>90</li><li>55</li><li>54</li><li>63</li><li>54</li><li>75</li><li>53</li><li>55</li><li>63</li><li>62</li><li>59</li><li>56</li><li>53</li><li>52</li><li>61</li><li>66</li><li>53</li><li>51</li><li>53</li><li>61</li><li>85</li><li>62</li><li>58</li><li>66</li><li>58</li><li>64</li><li>52</li><li>82</li><li>57</li><li>71</li><li>66</li><li>58</li><li>65</li><li>58</li></ol>\n"
            ],
            "text/markdown": "1. 52\n2. 54\n3. 53\n4. 79\n5. 52\n6. 59\n7. 76\n8. 53\n9. 56\n10. 61\n11. 52\n12. 71\n13. 68\n14. 66\n15. 51\n16. 53\n17. 51\n18. 60\n19. 54\n20. 90\n21. 54\n22. 53\n23. 66\n24. 75\n25. 59\n26. 56\n27. 58\n28. 59\n29. 64\n30. 65\n31. 55\n32. 77\n33. 62\n34. 76\n35. 63\n36. 58\n37. 66\n38. 53\n39. 67\n40. 56\n41. 59\n42. 62\n43. 56\n44. 57\n45. 54\n46. 52\n47. 52\n48. 63\n49. 80\n50. 52\n51. 67\n52. 72\n53. 53\n54. 74\n55. 67\n56. 57\n57. 58\n58. 72\n59. 65\n60. 57\n61. 51\n62. 52\n63. 71\n64. 58\n65. 70\n66. 58\n67. 66\n68. 65\n69. 56\n70. 58\n71. 54\n72. 59\n73. 53\n74. 55\n75. 61\n76. 61\n77. 68\n78. 56\n79. 73\n80. 72\n81. 55\n82. 62\n83. 55\n84. 61\n85. 71\n86. 63\n87. 63\n88. 53\n89. 51\n90. 54\n91. 51\n92. 55\n93. 60\n94. 63\n95. 51\n96. 58\n97. 54\n98. 51\n99. 90\n100. 52\n101. 54\n102. 62\n103. 58\n104. 53\n105. 59\n106. 61\n107. 54\n108. 88\n109. 58\n110. 51\n111. 65\n112. 51\n113. 59\n114. 54\n115. 53\n116. 52\n117. 52\n118. 73\n119. 51\n120. 52\n121. 58\n122. 61\n123. 55\n124. 52\n125. 51\n126. 71\n127. 57\n128. 59\n129. 58\n130. 52\n131. 54\n132. 54\n133. 53\n134. 52\n135. 53\n136. 57\n137. 58\n138. 61\n139. 51\n140. 76\n141. 70\n142. 61\n143. 69\n144. 53\n145. 53\n146. 60\n147. 66\n148. 59\n149. 59\n150. 62\n151. 75\n152. 51\n153. 51\n154. 65\n155. 57\n156. 60\n157. 61\n158. 67\n159. 54\n160. 52\n161. 55\n162. 71\n163. 59\n164. 62\n165. 52\n166. 64\n167. 53\n168. 51\n169. 56\n170. 73\n171. 51\n172. 55\n173. 51\n174. 65\n175. 71\n176. 51\n177. 66\n178. 52\n179. 52\n180. 57\n181. 52\n182. 51\n183. 56\n184. 53\n185. 63\n186. 60\n187. 68\n188. 62\n189. 90\n190. 57\n191. 77\n192. 66\n193. 68\n194. 64\n195. 60\n196. 54\n197. 51\n198. 57\n199. 63\n200. 61\n201. ⋯\n202. 54\n203. 66\n204. 51\n205. 61\n206. 55\n207. 55\n208. 60\n209. 57\n210. 57\n211. 51\n212. 64\n213. 52\n214. 63\n215. 72\n216. 70\n217. 65\n218. 72\n219. 54\n220. 51\n221. 53\n222. 65\n223. 68\n224. 60\n225. 64\n226. 58\n227. 62\n228. 51\n229. 66\n230. 67\n231. 57\n232. 57\n233. 57\n234. 59\n235. 53\n236. 67\n237. 56\n238. 52\n239. 60\n240. 51\n241. 57\n242. 59\n243. 55\n244. 61\n245. 75\n246. 56\n247. 57\n248. 75\n249. 69\n250. 57\n251. 51\n252. 55\n253. 60\n254. 59\n255. 53\n256. 58\n257. 61\n258. 90\n259. 60\n260. 57\n261. 54\n262. 52\n263. 53\n264. 55\n265. 59\n266. 63\n267. 51\n268. 53\n269. 53\n270. 52\n271. 55\n272. 67\n273. 51\n274. 51\n275. 60\n276. 53\n277. 52\n278. 74\n279. 65\n280. 61\n281. 51\n282. 55\n283. 54\n284. 62\n285. 51\n286. 57\n287. 61\n288. 64\n289. 70\n290. 59\n291. 87\n292. 55\n293. 61\n294. 51\n295. 54\n296. 57\n297. 52\n298. 66\n299. 55\n300. 54\n301. 66\n302. 61\n303. 57\n304. 52\n305. 57\n306. 63\n307. 54\n308. 51\n309. 68\n310. 54\n311. 61\n312. 53\n313. 61\n314. 58\n315. 62\n316. 58\n317. 72\n318. 60\n319. 57\n320. 61\n321. 58\n322. 61\n323. 59\n324. 58\n325. 52\n326. 51\n327. 53\n328. 80\n329. 58\n330. 63\n331. 53\n332. 51\n333. 82\n334. 61\n335. 59\n336. 55\n337. 62\n338. 68\n339. 57\n340. 53\n341. 52\n342. 52\n343. 62\n344. 53\n345. 70\n346. 52\n347. 56\n348. 51\n349. 60\n350. 55\n351. 59\n352. 65\n353. 54\n354. 66\n355. 62\n356. 55\n357. 63\n358. 59\n359. 52\n360. 67\n361. 72\n362. 53\n363. 58\n364. 51\n365. 51\n366. 63\n367. 60\n368. 90\n369. 55\n370. 54\n371. 63\n372. 54\n373. 75\n374. 53\n375. 55\n376. 63\n377. 62\n378. 59\n379. 56\n380. 53\n381. 52\n382. 61\n383. 66\n384. 53\n385. 51\n386. 53\n387. 61\n388. 85\n389. 62\n390. 58\n391. 66\n392. 58\n393. 64\n394. 52\n395. 82\n396. 57\n397. 71\n398. 66\n399. 58\n400. 65\n401. 58\n\n\n",
            "text/latex": "\\begin{enumerate*}\n\\item 52\n\\item 54\n\\item 53\n\\item 79\n\\item 52\n\\item 59\n\\item 76\n\\item 53\n\\item 56\n\\item 61\n\\item 52\n\\item 71\n\\item 68\n\\item 66\n\\item 51\n\\item 53\n\\item 51\n\\item 60\n\\item 54\n\\item 90\n\\item 54\n\\item 53\n\\item 66\n\\item 75\n\\item 59\n\\item 56\n\\item 58\n\\item 59\n\\item 64\n\\item 65\n\\item 55\n\\item 77\n\\item 62\n\\item 76\n\\item 63\n\\item 58\n\\item 66\n\\item 53\n\\item 67\n\\item 56\n\\item 59\n\\item 62\n\\item 56\n\\item 57\n\\item 54\n\\item 52\n\\item 52\n\\item 63\n\\item 80\n\\item 52\n\\item 67\n\\item 72\n\\item 53\n\\item 74\n\\item 67\n\\item 57\n\\item 58\n\\item 72\n\\item 65\n\\item 57\n\\item 51\n\\item 52\n\\item 71\n\\item 58\n\\item 70\n\\item 58\n\\item 66\n\\item 65\n\\item 56\n\\item 58\n\\item 54\n\\item 59\n\\item 53\n\\item 55\n\\item 61\n\\item 61\n\\item 68\n\\item 56\n\\item 73\n\\item 72\n\\item 55\n\\item 62\n\\item 55\n\\item 61\n\\item 71\n\\item 63\n\\item 63\n\\item 53\n\\item 51\n\\item 54\n\\item 51\n\\item 55\n\\item 60\n\\item 63\n\\item 51\n\\item 58\n\\item 54\n\\item 51\n\\item 90\n\\item 52\n\\item 54\n\\item 62\n\\item 58\n\\item 53\n\\item 59\n\\item 61\n\\item 54\n\\item 88\n\\item 58\n\\item 51\n\\item 65\n\\item 51\n\\item 59\n\\item 54\n\\item 53\n\\item 52\n\\item 52\n\\item 73\n\\item 51\n\\item 52\n\\item 58\n\\item 61\n\\item 55\n\\item 52\n\\item 51\n\\item 71\n\\item 57\n\\item 59\n\\item 58\n\\item 52\n\\item 54\n\\item 54\n\\item 53\n\\item 52\n\\item 53\n\\item 57\n\\item 58\n\\item 61\n\\item 51\n\\item 76\n\\item 70\n\\item 61\n\\item 69\n\\item 53\n\\item 53\n\\item 60\n\\item 66\n\\item 59\n\\item 59\n\\item 62\n\\item 75\n\\item 51\n\\item 51\n\\item 65\n\\item 57\n\\item 60\n\\item 61\n\\item 67\n\\item 54\n\\item 52\n\\item 55\n\\item 71\n\\item 59\n\\item 62\n\\item 52\n\\item 64\n\\item 53\n\\item 51\n\\item 56\n\\item 73\n\\item 51\n\\item 55\n\\item 51\n\\item 65\n\\item 71\n\\item 51\n\\item 66\n\\item 52\n\\item 52\n\\item 57\n\\item 52\n\\item 51\n\\item 56\n\\item 53\n\\item 63\n\\item 60\n\\item 68\n\\item 62\n\\item 90\n\\item 57\n\\item 77\n\\item 66\n\\item 68\n\\item 64\n\\item 60\n\\item 54\n\\item 51\n\\item 57\n\\item 63\n\\item 61\n\\item ⋯\n\\item 54\n\\item 66\n\\item 51\n\\item 61\n\\item 55\n\\item 55\n\\item 60\n\\item 57\n\\item 57\n\\item 51\n\\item 64\n\\item 52\n\\item 63\n\\item 72\n\\item 70\n\\item 65\n\\item 72\n\\item 54\n\\item 51\n\\item 53\n\\item 65\n\\item 68\n\\item 60\n\\item 64\n\\item 58\n\\item 62\n\\item 51\n\\item 66\n\\item 67\n\\item 57\n\\item 57\n\\item 57\n\\item 59\n\\item 53\n\\item 67\n\\item 56\n\\item 52\n\\item 60\n\\item 51\n\\item 57\n\\item 59\n\\item 55\n\\item 61\n\\item 75\n\\item 56\n\\item 57\n\\item 75\n\\item 69\n\\item 57\n\\item 51\n\\item 55\n\\item 60\n\\item 59\n\\item 53\n\\item 58\n\\item 61\n\\item 90\n\\item 60\n\\item 57\n\\item 54\n\\item 52\n\\item 53\n\\item 55\n\\item 59\n\\item 63\n\\item 51\n\\item 53\n\\item 53\n\\item 52\n\\item 55\n\\item 67\n\\item 51\n\\item 51\n\\item 60\n\\item 53\n\\item 52\n\\item 74\n\\item 65\n\\item 61\n\\item 51\n\\item 55\n\\item 54\n\\item 62\n\\item 51\n\\item 57\n\\item 61\n\\item 64\n\\item 70\n\\item 59\n\\item 87\n\\item 55\n\\item 61\n\\item 51\n\\item 54\n\\item 57\n\\item 52\n\\item 66\n\\item 55\n\\item 54\n\\item 66\n\\item 61\n\\item 57\n\\item 52\n\\item 57\n\\item 63\n\\item 54\n\\item 51\n\\item 68\n\\item 54\n\\item 61\n\\item 53\n\\item 61\n\\item 58\n\\item 62\n\\item 58\n\\item 72\n\\item 60\n\\item 57\n\\item 61\n\\item 58\n\\item 61\n\\item 59\n\\item 58\n\\item 52\n\\item 51\n\\item 53\n\\item 80\n\\item 58\n\\item 63\n\\item 53\n\\item 51\n\\item 82\n\\item 61\n\\item 59\n\\item 55\n\\item 62\n\\item 68\n\\item 57\n\\item 53\n\\item 52\n\\item 52\n\\item 62\n\\item 53\n\\item 70\n\\item 52\n\\item 56\n\\item 51\n\\item 60\n\\item 55\n\\item 59\n\\item 65\n\\item 54\n\\item 66\n\\item 62\n\\item 55\n\\item 63\n\\item 59\n\\item 52\n\\item 67\n\\item 72\n\\item 53\n\\item 58\n\\item 51\n\\item 51\n\\item 63\n\\item 60\n\\item 90\n\\item 55\n\\item 54\n\\item 63\n\\item 54\n\\item 75\n\\item 53\n\\item 55\n\\item 63\n\\item 62\n\\item 59\n\\item 56\n\\item 53\n\\item 52\n\\item 61\n\\item 66\n\\item 53\n\\item 51\n\\item 53\n\\item 61\n\\item 85\n\\item 62\n\\item 58\n\\item 66\n\\item 58\n\\item 64\n\\item 52\n\\item 82\n\\item 57\n\\item 71\n\\item 66\n\\item 58\n\\item 65\n\\item 58\n\\end{enumerate*}\n",
            "text/plain": [
              "   [1] 52 54 53 79 52 59 76 53 56 61 52 71 68 66 51 53 51 60 54 90 54 53 66 75\n",
              "  [25] 59 56 58 59 64 65 55 77 62 76 63 58 66 53 67 56 59 62 56 57 54 52 52 63\n",
              "  [49] 80 52 67 72 53 74 67 57 58 72 65 57 51 52 71 58 70 58 66 65 56 58 54 59\n",
              "  [73] 53 55 61 61 68 56 73 72 55 62 55 61 71 63 63 53 51 54 51 55 60 63 51 58\n",
              "  [97] 54 51 90 52 54 62 58 53 59 61 54 88 58 51 65 51 59 54 53 52 52 73 51 52\n",
              " [121] 58 61 55 52 51 71 57 59 58 52 54 54 53 52 53 57 58 61 51 76 70 61 69 53\n",
              " [145] 53 60 66 59 59 62 75 51 51 65 57 60 61 67 54 52 55 71 59 62 52 64 53 51\n",
              " [169] 56 73 51 55 51 65 71 51 66 52 52 57 52 51 56 53 63 60 68 62 90 57 77 66\n",
              " [193] 68 64 60 54 51 57 63 61 53 53 51 51 56 52 58 57 61 61 56 52 75 61 59 60\n",
              " [217] 74 55 57 51 59 63 51 58 63 90 56 62 63 56 67 61 74 57 55 63 70 54 55 55\n",
              " [241] 60 54 76 57 57 54 65 51 54 53 56 56 52 57 67 52 55 52 52 62 61 55 61 64\n",
              " [265] 72 54 62 55 54 64 55 61 53 53 58 69 56 53 71 56 64 67 63 52 75 53 60 75\n",
              " [289] 64 64 51 57 61 61 53 59 69 74 60 65 61 55 64 64 56 53 53 58 54 59 51 71\n",
              " [313] 59 82 59 59 53 52 56 52 73 52 59 74 62 76 58 56 68 63 53 51 51 51 66 52\n",
              " [337] 52 53 59 63 55 62 51 59 57 51 56 51 57 61 53 72 65 61 57 51 53 64 56 68\n",
              " [361] 57 51 74 63 51 53 65 68 54 51 57 52 51 62 54 63 51 63 62 51 72 52 63 55\n",
              " [385] 57 57 51 51 58 59 52 59 59 52 54 52 54 66 76 55 64 53 51 75 61 51 68 52\n",
              " [409] 72 59 64 59 66 56 65 64 53 67 64 52 52 51 54 53 56 58 64 68 52 56 51 55\n",
              " [433] 60 52 61 57 53 51 67 58 52 65 55 53 59 53 62 51 56 60 79 69 55 65 76 65\n",
              " [457] 63 67 69 53 57 68 60 57 58 51 63 65 56 55 58 76 57 63 55 55 52 57 53 54\n",
              " [481] 52 59 57 52 58 51 58 67 61 63 76 76 53 51 54 51 57 52 63 51 59 90 54 80\n",
              " [505] 58 90 59 63 57 74 59 63 53 51 52 56 53 54 53 62 51 64 60 59 57 60 59 53\n",
              " [529] 56 57 62 53 60 53 71 59 63 51 56 60 56 57 54 52 58 52 51 53 54 60 73 62\n",
              " [553] 73 57 57 71 52 53 51 59 62 79 52 51 67 65 57 51 52 55 78 65 56 58 55 56\n",
              " [577] 55 51 58 54 56 60 63 54 59 57 53 58 56 79 71 60 55 55 52 90 67 55 53 51\n",
              " [601] 63 70 53 70 51 58 54 75 51 61 59 56 57 51 64 55 74 58 51 51 53 54 57 51\n",
              " [625] 66 61 63 75 61 55 61 64 66 62 66 56 51 60 57 56 51 58 54 53 63 71 59 67\n",
              " [649] 64 52 55 55 56 67 51 73 56 59 67 63 60 60 54 63 63 57 56 73 64 61 56 59\n",
              " [673] 55 56 55 57 58 52 68 54 65 63 63 53 58 54 51 54 63 59 64 67 58 53 52 60\n",
              " [697] 55 62 56 54 54 54 70 83 51 51 64 54 61 51 60 61 55 53 53 69 58 58 54 68\n",
              " [721] 56 62 58 55 62 59 70 55 62 51 54 67 55 51 53 51 61 55 67 59 52 52 51 57\n",
              " [745] 60 53 63 60 68 56 51 65 57 76 56 56 73 58 69 64 53 57 51 54 58 56 61 61\n",
              " [769] 85 60 65 51 82 59 72 63 75 52 70 51 51 70 53 60 57 65 60 61 80 70 52 62\n",
              " [793] 64 51 54 53 57 58 69 54 68 61 63 65 55 53 60 59 90 61 55 63 60 53 53 58\n",
              " [817] 51 58 62 56 51 57 77 52 66 52 57 77 70 75 58 58 52 58 53 59 54 52 51 51\n",
              " [841] 69 62 58 64 66 53 60 62 64 59 52 70 58 65 52 52 60 56 65 53 58 63 55 58\n",
              " [865] 55 53 60 53 51 52 70 58 56 51 62 51 64 57 58 51 52 66 52 64 53 56 51 63\n",
              " [889] 55 68 59 65 68 69 67 67 61 73 54 70 71 57 61 51 51 80 51 58 52 55 68 60\n",
              " [913] 59 90 52 51 54 52 55 63 67 73 65 56 60 52 56 51 54 60 63 51 58 63 63 56\n",
              " [937] 74 56 54 55 67 54 78 77 70 51 66 60 57 52 54 62 52 59 71 57 64 53 68 77\n",
              " [961] 70 57 55 63 53 55 76 67 58 65 57 51 74 64 56 54 53 63 51 56 54 60 65 52\n",
              " [985] 52 55 58 62 53 69 67 55 52 51 73 52 57 65 64 62 66 84 54 59 62 73 55 66\n",
              "[1009] 60 75 58 65 52 59 73 63 62 52 52 53 69 56 73 69 76 74 52 63 63 62 57 64\n",
              "[1033] 55 56 57 64 56 55 67 62 73 61 65 58 56 53 59 58 57 63 53 71 54 60 59 76\n",
              "[1057] 51 51 90 51 52 53 53 55 61 56 54 55 53 69 64 53 52 57 52 57 61 52 58 54\n",
              "[1081] 76 51 73 57 52 68 53 59 62 63 52 61 70 71 55 54 56 57 60 60 51 53 52 62\n",
              "[1105] 65 51 74 62 63 62 55 51 61 65 52 58 62 58 60 55 65 68 57 51 51 52 69 57\n",
              "[1129] 57 60 56 56 61 54 59 57 67 51 60 52 52 67 51 52 90 60 76 58 64 54 52 84\n",
              "[1153] 56 54 60 58 63 61 56 51 51 52 51 71 65 53 53 62 54 54 62 58 55 66 64 65\n",
              "[1177] 51 64 61 71 51 52 54 57 56 65 51 64 65 57 52 54 59 57 58 57 54 68 62 55\n",
              "[1201] 58 70 57 63 57 56 63 65 64 66 53 59 59 63 51 52 59 53 65 72 58 55 57 70\n",
              "[1225] 64 52 69 55 51 54 66 52 76 60 52 57 51 61 57 60 54 51 64 59 59 80 51 53\n",
              "[1249] 52 57 51 69 90 66 71 61 55 54 56 57 54 59 68 54 65 56 75 64 73 64 54 58\n",
              "[1273] 52 64 74 51 53 61 67 52 51 59 57 52 56 61 66 55 66 58 56 61 56 57 52 58\n",
              "[1297] 62 67 61 52 57 58 56 60 65 54 51 62 72 72 60 78 72 56 79 67 61 65 53 53\n",
              "[1321] 63 61 59 66 52 58 55 52 51 62 60 62 53 63 62 76 60 57 51 53 53 57 74 56\n",
              "[1345] 68 54 59 73 55 53 74 53 58 51 54 59 55 70 54 57 60 62 57 56 54 55 67 55\n",
              "[1369] 55 59 51 51 63 59 64 56 57 56 66 51 52 58 67 51 54 53 53 53 61 74 60 51\n",
              "[1393] 53 63 59 62 60 59 68 84 66 51 56 56 62 52 53 56 59 53 52 58 52 64 61 59\n",
              "[1417] 66 68 57 90 62 61 54 58 65 53 58 63 59 55 63 57 58 68 64 57 69 57 58 58\n",
              "[1441] 59 53 54 55 60 57 57 53 54 69 62 71 69 62 56 51 58 57 68 70 62 54 52 59\n",
              "[1465] 52 55 56 61 55 52 59 51 53 68 66 59 67 54 57 51 55 59 56 57 53 59 67 52\n",
              "[1489] 59 57 51 51 72 58 52 51 75 55 61 79 51 64 59 61 59 53 53 53 59 60 78 59\n",
              "[1513] 60 81 55 52 64 51 66 55 53 71 51 53 63 80 58 62 66 54 54 51 57 64 52 77\n",
              "[1537] 78 60 61 60 51 54 61 51 51 51 52 57 54 52 57 54 60 56 57 52 54 52 65 57\n",
              "[1561] 64 59 58 52 76 57 53 55 63 51 59 58 69 70 62 61 52 52 53 78 51 53 64 57\n",
              "[1585] 51 58 71 59 62 79 60 51 62 63 59 59 56 65 56 66 67 54 51 60 58 54 57 57\n",
              "[1609] 57 64 55 68 54 52 67 62 53 52 58 58 68 60 53 54 66 60 63 64 53 52 54 72\n",
              "[1633] 65 68 56 55 51 51 52 53 56 71 57 59 67 58 53 60 58 74 57 80 55 65 51 53\n",
              "[1657] 66 54 69 90 65 58 57 67 51 51 66 54 66 54 55 70 71 53 65 53 63 54 80 64\n",
              "[1681] 73 58 53 56 60 63 58 58 59 52 64 70 51 73 51 57 55 54 68 60 58 58 53 59\n",
              "[1705] 58 90 66 73 53 53 54 59 53 58 68 56 66 63 51 53 51 52 53 56 55 62 57 60\n",
              "[1729] 51 51 71 73 58 59 53 67 83 51 51 82 90 69 73 53 60 53 61 65 64 68 60 52\n",
              "[1753] 62 59 67 58 62 67 58 52 64 55 63 59 90 56 58 55 56 63 54 71 52 55 53 64\n",
              "[1777] 61 59 64 57 51 53 51 52 53 69 56 52 58 60 61 52 58 57 63 58 64 55 53 61\n",
              "[1801] 52 64 54 55 58 53 58 77 60 70 55 56 62 58 54 59 56 63 56 55 54 63 72 57\n",
              "[1825] 56 61 60 68 65 65 55 56 59 56 51 54 62 62 55 52 53 60 63 54 63 54 57 52\n",
              "[1849] 51 55 59 56 52 70 55 66 53 54 63 51 56 58 66 55 60 70 58 54 65 82 59 57\n",
              "[1873] 60 64 71 55 85 57 64 52 68 52 51 55 57 62 73 54 63 67 54 72 56 55 77 51\n",
              "[1897] 58 68 52 62 55 55 62 51 51 76 55 56 54 81 57 53 51 53 76 58 61 54 51 59\n",
              "[1921] 77 52 52 52 57 52 52 54 51 60 63 55 64 56 59 70 76 54 54 61 53 68 58 67\n",
              "[1945] 69 76 53 63 58 74 55 51 60 61 61 53 55 60 57 62 59 79 54 62 62 60 63 55\n",
              "[1969] 53 58 55 56 58 75 81 78 52 55 51 59 51 51 69 61 52 55 68 67 77 63 56 60\n",
              "[1993] 67 51 58 57 65 57 63 67 65 70 59 72 76 53 69 58 52 62 54 55 59 57 57 59\n",
              "[2017] 59 53 56 90 62 67 63 61 59 59 54 53 52 54 56 51 68 52 51 52 51 58 53 60\n",
              "[2041] 68 51 59 68 82 52 60 62 65 53 59 53 53 51 60 51 60 51 53 51 59 53 53 52\n",
              "[2065] 61 66 56 60 65 53 53 53 57 53 61 61 58 59 65 57 61 57 58 88 84 58 60 64\n",
              "[2089] 51 57 56 56 59 70 59 63 53 64 56 56 53 75 68 54 56 60 72 59 52 51 51 72\n",
              "[2113] 54 62 63 51 66 71 66 56 76 77 57 66 52 64 56 55 70 69 54 56 55 58 59 60\n",
              "[2137] 62 60 72 65 70 53 71 56 64 54 61 51 54 51 54 72 53 70 55 55 56 69 56 56\n",
              "[2161] 61 57 55 65 51 67 59 51 52 58 62 51 51 67 77 54 51 51 58 73 62 71 77 59\n",
              "[2185] 56 70 59 62 55 63 51 58 52 86 59 64 51 54 60 56 54 52 58 61 59 66 56 55\n",
              "[2209] 52 62 58 54 56 59 52 69 90 70 66 53 61 58 61 59 82 72 51 52 55 62 55 57\n",
              "[2233] 67 51 62 55 60 73 54 63 52 52 52 51 51 69 56 60 70 59 53 60 55 51 53 81\n",
              "[2257] 52 57 52 64 56 52 54 62 56 52 68 53 57 51 54 54 67 51 59 54 58 56 74 62\n",
              "[2281] 73 52 72 53 54 57 63 69 58 56 68 69 62 62 65 53 54 52 53 66 59 53 59 52\n",
              "[2305] 55 75 79 51 52 52 74 65 52 53 78 69 51 51 61 56 69 90 56 51 64 66 80 59\n",
              "[2329] 63 52 52 54 53 54 56 57 54 55 51 56 59 53 68 52 54 51 58 60 73 58 61 55\n",
              "[2353] 58 60 52 60 59 53 73 51 60 52 63 62 62 54 67 64 56 53 63 55 58 53 62 70\n",
              "[2377] 67 62 52 62 53 53 74 53 54 58 53 57 51 63 63 66 69 59 68 58 52 65 60 55\n",
              "[2401] 51 62 51 53 51 54 64 61 62 60 63 51 67 52 79 51 74 55 56 63 53 56 53 65\n",
              "[2425] 59 51 54 59 51 64 57 54 60 60 54 59 61 53 52 52 70 59 58 51 74 61 67 60\n",
              "[2449] 62 62 67 53 53 55 55 66 59 53 53 65 70 58 65 57 51 65 64 53 54 52 53 62\n",
              "[2473] 52 53 67 53 51 51 67 61 73 51 54 60 61 51 65 61 63 58 60 57 76 62 71 55\n",
              "[2497] 72 55 61 58 69 51 52 58 56 54 51 56 58 53 61 52 61 51 52 61 52 52 70 64\n",
              "[2521] 61 51 59 64 63 61 59 54 65 61 68 61 76 51 51 60 59 56 67 54 78 53 75 63\n",
              "[2545] 55 59 68 54 52 61 52 55 52 65 57 62 53 84 61 56 53 56 61 60 55 54 55 51\n",
              "[2569] 59 55 65 51 62 54 52 59 54 66 52 61 63 65 52 54 51 62 55 51 67 78 64 55\n",
              "[2593] 70 53 72 53 60 52 58 61 70 51 57 53 56 59 64 62 62 53 69 52 51 57 53 61\n",
              "[2617] 53 90 54 69 57 55 52 54 57 51 73 52 59 51 52 75 52 51 61 55 51 56 54 51\n",
              "[2641] 54 57 54 59 55 59 52 74 65 67 68 68 67 61 53 66 55 60 58 63 54 58 60 53\n",
              "[2665] 53 68 73 64 58 53 54 61 66 67 52 59 59 59 59 64 54 51 63 60 58 73 58 56\n",
              "[2689] 55 53 60 54 51 55 52 64 51 51 53 64 81 65 61 51 55 51 55 52 55 67 57 56\n",
              "[2713] 62 56 53 61 52 54 63 53 51 55 68 56 64 54 61 51 70 67 54 56 58 71 58 51\n",
              "[2737] 59 68 65 57 51 63 54 56 56 62 51 62 56 59 55 55 72 51 64 60 57 54 55 52\n",
              "[2761] 54 61 56 54 62 61 61 54 56 64 54 66 51 61 55 55 60 57 57 51 64 52 63 72\n",
              "[2785] 70 65 72 54 51 53 65 68 60 64 58 62 51 66 67 57 57 57 59 53 67 56 52 60\n",
              "[2809] 51 57 59 55 61 75 56 57 75 69 57 51 55 60 59 53 58 61 90 60 57 54 52 53\n",
              "[2833] 55 59 63 51 53 53 52 55 67 51 51 60 53 52 74 65 61 51 55 54 62 51 57 61\n",
              "[2857] 64 70 59 87 55 61 51 54 57 52 66 55 54 66 61 57 52 57 63 54 51 68 54 61\n",
              "[2881] 53 61 58 62 58 72 60 57 61 58 61 59 58 52 51 53 80 58 63 53 51 82 61 59\n",
              "[2905] 55 62 68 57 53 52 52 62 53 70 52 56 51 60 55 59 65 54 66 62 55 63 59 52\n",
              "[2929] 67 72 53 58 51 51 63 60 90 55 54 63 54 75 53 55 63 62 59 56 53 52 61 66\n",
              "[2953] 53 51 53 61 85 62 58 66 58 64 52 82 57 71 66 58 65 58"
            ]
          },
          "metadata": {}
        }
      ]
    },
    {
      "cell_type": "markdown",
      "source": [
        "#Making a contingency table for workers over 40\n",
        "---"
      ],
      "metadata": {
        "id": "JMAOYD1Zbuhz"
      }
    },
    {
      "cell_type": "code",
      "source": [
        "workSexTable <- table(adultTraining$workclass[which(adultOver40)], adultTraining$sex[which(adultOver40)])\n",
        "\n",
        "ftable(workSexTable)"
      ],
      "metadata": {
        "colab": {
          "base_uri": "https://localhost:8080/",
          "height": 194
        },
        "id": "G8AfxKu4QN_R",
        "outputId": "36ddcee8-d4e1-4d04-b52f-b30a7f2352a1"
      },
      "execution_count": null,
      "outputs": [
        {
          "output_type": "display_data",
          "data": {
            "text/plain": [
              "                  Female Male\n",
              "                             \n",
              "?                    119  241\n",
              "Federal-gov           83  191\n",
              "Local-gov            198  317\n",
              "Private             1176 2525\n",
              "Self-emp-inc          30  306\n",
              "Self-emp-not-inc     114  579\n",
              "State-gov             85  178\n",
              "Without-pay            1    1"
            ]
          },
          "metadata": {}
        }
      ]
    },
    {
      "cell_type": "markdown",
      "source": [
        "#Calculating ZScore and identifying outliers for education\n",
        "---"
      ],
      "metadata": {
        "id": "r4eVpqTUb4Or"
      }
    },
    {
      "cell_type": "code",
      "source": [
        "adultTraining$scaled_education <- scale(x = adultTraining$education)\n",
        "\n",
        "three_sigma_rule <- (adultTraining$scaled_education < -3 | \n",
        "                     adultTraining$scaled_education > 3 )\n",
        "\n",
        "\n",
        "cat (\"There are\", sum(three_sigma_rule), \"outliers \\n\\n\")\n",
        "\n",
        "\n",
        "cat(\"The scaled education values that are outliers: \\n\\n\")\n",
        "adultTraining$scaled_education[which(three_sigma_rule)]\n",
        "\n",
        "summary(adultTraining$scaled_education)\n",
        "summary(adultTraining$education)"
      ],
      "metadata": {
        "colab": {
          "base_uri": "https://localhost:8080/",
          "height": 751
        },
        "id": "_33tEVDqQk4T",
        "outputId": "5eec292d-9798-4b59-e842-34eb0dd4e3bf"
      },
      "execution_count": null,
      "outputs": [
        {
          "output_type": "stream",
          "name": "stdout",
          "text": [
            "There are 113 outliers \n",
            "\n",
            "The scaled education values that are outliers: \n",
            "\n"
          ]
        },
        {
          "output_type": "display_data",
          "data": {
            "text/html": [
              "<style>\n",
              ".list-inline {list-style: none; margin:0; padding: 0}\n",
              ".list-inline>li {display: inline-block}\n",
              ".list-inline>li:not(:last-child)::after {content: \"\\00b7\"; padding: 0 .5ex}\n",
              "</style>\n",
              "<ol class=list-inline><li>-3.10541797009516</li><li>-3.49028546514096</li><li>-3.10541797009516</li><li>-3.10541797009516</li><li>-3.10541797009516</li><li>-3.10541797009516</li><li>-3.10541797009516</li><li>-3.10541797009516</li><li>-3.10541797009516</li><li>-3.10541797009516</li><li>-3.49028546514096</li><li>-3.49028546514096</li><li>-3.10541797009516</li><li>-3.49028546514096</li><li>-3.10541797009516</li><li>-3.49028546514096</li><li>-3.10541797009516</li><li>-3.10541797009516</li><li>-3.10541797009516</li><li>-3.10541797009516</li><li>-3.10541797009516</li><li>-3.10541797009516</li><li>-3.49028546514096</li><li>-3.49028546514096</li><li>-3.10541797009516</li><li>-3.10541797009516</li><li>-3.49028546514096</li><li>-3.49028546514096</li><li>-3.49028546514096</li><li>-3.10541797009516</li><li>-3.10541797009516</li><li>-3.49028546514096</li><li>-3.10541797009516</li><li>-3.10541797009516</li><li>-3.10541797009516</li><li>-3.49028546514096</li><li>-3.10541797009516</li><li>-3.49028546514096</li><li>-3.10541797009516</li><li>-3.10541797009516</li><li>-3.10541797009516</li><li>-3.10541797009516</li><li>-3.10541797009516</li><li>-3.10541797009516</li><li>-3.10541797009516</li><li>-3.10541797009516</li><li>-3.10541797009516</li><li>-3.10541797009516</li><li>-3.10541797009516</li><li>-3.10541797009516</li><li>-3.10541797009516</li><li>-3.10541797009516</li><li>-3.10541797009516</li><li>-3.10541797009516</li><li>-3.10541797009516</li><li>-3.10541797009516</li><li>-3.10541797009516</li><li>-3.10541797009516</li><li>-3.49028546514096</li><li>-3.10541797009516</li><li>-3.10541797009516</li><li>-3.10541797009516</li><li>-3.10541797009516</li><li>-3.10541797009516</li><li>-3.10541797009516</li><li>-3.10541797009516</li><li>-3.10541797009516</li><li>-3.10541797009516</li><li>-3.10541797009516</li><li>-3.10541797009516</li><li>-3.49028546514096</li><li>-3.10541797009516</li><li>-3.49028546514096</li><li>-3.49028546514096</li><li>-3.49028546514096</li><li>-3.10541797009516</li><li>-3.49028546514096</li><li>-3.10541797009516</li><li>-3.49028546514096</li><li>-3.49028546514096</li><li>-3.49028546514096</li><li>-3.10541797009516</li><li>-3.49028546514096</li><li>-3.10541797009516</li><li>-3.10541797009516</li><li>-3.10541797009516</li><li>-3.10541797009516</li><li>-3.10541797009516</li><li>-3.10541797009516</li><li>-3.10541797009516</li><li>-3.10541797009516</li><li>-3.10541797009516</li><li>-3.10541797009516</li><li>-3.10541797009516</li><li>-3.10541797009516</li><li>-3.10541797009516</li><li>-3.10541797009516</li><li>-3.10541797009516</li><li>-3.10541797009516</li><li>-3.10541797009516</li><li>-3.10541797009516</li><li>-3.10541797009516</li><li>-3.10541797009516</li><li>-3.10541797009516</li><li>-3.10541797009516</li><li>-3.10541797009516</li><li>-3.10541797009516</li><li>-3.10541797009516</li><li>-3.10541797009516</li><li>-3.10541797009516</li><li>-3.10541797009516</li><li>-3.49028546514096</li><li>-3.10541797009516</li></ol>\n"
            ],
            "text/markdown": "1. -3.10541797009516\n2. -3.49028546514096\n3. -3.10541797009516\n4. -3.10541797009516\n5. -3.10541797009516\n6. -3.10541797009516\n7. -3.10541797009516\n8. -3.10541797009516\n9. -3.10541797009516\n10. -3.10541797009516\n11. -3.49028546514096\n12. -3.49028546514096\n13. -3.10541797009516\n14. -3.49028546514096\n15. -3.10541797009516\n16. -3.49028546514096\n17. -3.10541797009516\n18. -3.10541797009516\n19. -3.10541797009516\n20. -3.10541797009516\n21. -3.10541797009516\n22. -3.10541797009516\n23. -3.49028546514096\n24. -3.49028546514096\n25. -3.10541797009516\n26. -3.10541797009516\n27. -3.49028546514096\n28. -3.49028546514096\n29. -3.49028546514096\n30. -3.10541797009516\n31. -3.10541797009516\n32. -3.49028546514096\n33. -3.10541797009516\n34. -3.10541797009516\n35. -3.10541797009516\n36. -3.49028546514096\n37. -3.10541797009516\n38. -3.49028546514096\n39. -3.10541797009516\n40. -3.10541797009516\n41. -3.10541797009516\n42. -3.10541797009516\n43. -3.10541797009516\n44. -3.10541797009516\n45. -3.10541797009516\n46. -3.10541797009516\n47. -3.10541797009516\n48. -3.10541797009516\n49. -3.10541797009516\n50. -3.10541797009516\n51. -3.10541797009516\n52. -3.10541797009516\n53. -3.10541797009516\n54. -3.10541797009516\n55. -3.10541797009516\n56. -3.10541797009516\n57. -3.10541797009516\n58. -3.10541797009516\n59. -3.49028546514096\n60. -3.10541797009516\n61. -3.10541797009516\n62. -3.10541797009516\n63. -3.10541797009516\n64. -3.10541797009516\n65. -3.10541797009516\n66. -3.10541797009516\n67. -3.10541797009516\n68. -3.10541797009516\n69. -3.10541797009516\n70. -3.10541797009516\n71. -3.49028546514096\n72. -3.10541797009516\n73. -3.49028546514096\n74. -3.49028546514096\n75. -3.49028546514096\n76. -3.10541797009516\n77. -3.49028546514096\n78. -3.10541797009516\n79. -3.49028546514096\n80. -3.49028546514096\n81. -3.49028546514096\n82. -3.10541797009516\n83. -3.49028546514096\n84. -3.10541797009516\n85. -3.10541797009516\n86. -3.10541797009516\n87. -3.10541797009516\n88. -3.10541797009516\n89. -3.10541797009516\n90. -3.10541797009516\n91. -3.10541797009516\n92. -3.10541797009516\n93. -3.10541797009516\n94. -3.10541797009516\n95. -3.10541797009516\n96. -3.10541797009516\n97. -3.10541797009516\n98. -3.10541797009516\n99. -3.10541797009516\n100. -3.10541797009516\n101. -3.10541797009516\n102. -3.10541797009516\n103. -3.10541797009516\n104. -3.10541797009516\n105. -3.10541797009516\n106. -3.10541797009516\n107. -3.10541797009516\n108. -3.10541797009516\n109. -3.10541797009516\n110. -3.10541797009516\n111. -3.10541797009516\n112. -3.49028546514096\n113. -3.10541797009516\n\n\n",
            "text/latex": "\\begin{enumerate*}\n\\item -3.10541797009516\n\\item -3.49028546514096\n\\item -3.10541797009516\n\\item -3.10541797009516\n\\item -3.10541797009516\n\\item -3.10541797009516\n\\item -3.10541797009516\n\\item -3.10541797009516\n\\item -3.10541797009516\n\\item -3.10541797009516\n\\item -3.49028546514096\n\\item -3.49028546514096\n\\item -3.10541797009516\n\\item -3.49028546514096\n\\item -3.10541797009516\n\\item -3.49028546514096\n\\item -3.10541797009516\n\\item -3.10541797009516\n\\item -3.10541797009516\n\\item -3.10541797009516\n\\item -3.10541797009516\n\\item -3.10541797009516\n\\item -3.49028546514096\n\\item -3.49028546514096\n\\item -3.10541797009516\n\\item -3.10541797009516\n\\item -3.49028546514096\n\\item -3.49028546514096\n\\item -3.49028546514096\n\\item -3.10541797009516\n\\item -3.10541797009516\n\\item -3.49028546514096\n\\item -3.10541797009516\n\\item -3.10541797009516\n\\item -3.10541797009516\n\\item -3.49028546514096\n\\item -3.10541797009516\n\\item -3.49028546514096\n\\item -3.10541797009516\n\\item -3.10541797009516\n\\item -3.10541797009516\n\\item -3.10541797009516\n\\item -3.10541797009516\n\\item -3.10541797009516\n\\item -3.10541797009516\n\\item -3.10541797009516\n\\item -3.10541797009516\n\\item -3.10541797009516\n\\item -3.10541797009516\n\\item -3.10541797009516\n\\item -3.10541797009516\n\\item -3.10541797009516\n\\item -3.10541797009516\n\\item -3.10541797009516\n\\item -3.10541797009516\n\\item -3.10541797009516\n\\item -3.10541797009516\n\\item -3.10541797009516\n\\item -3.49028546514096\n\\item -3.10541797009516\n\\item -3.10541797009516\n\\item -3.10541797009516\n\\item -3.10541797009516\n\\item -3.10541797009516\n\\item -3.10541797009516\n\\item -3.10541797009516\n\\item -3.10541797009516\n\\item -3.10541797009516\n\\item -3.10541797009516\n\\item -3.10541797009516\n\\item -3.49028546514096\n\\item -3.10541797009516\n\\item -3.49028546514096\n\\item -3.49028546514096\n\\item -3.49028546514096\n\\item -3.10541797009516\n\\item -3.49028546514096\n\\item -3.10541797009516\n\\item -3.49028546514096\n\\item -3.49028546514096\n\\item -3.49028546514096\n\\item -3.10541797009516\n\\item -3.49028546514096\n\\item -3.10541797009516\n\\item -3.10541797009516\n\\item -3.10541797009516\n\\item -3.10541797009516\n\\item -3.10541797009516\n\\item -3.10541797009516\n\\item -3.10541797009516\n\\item -3.10541797009516\n\\item -3.10541797009516\n\\item -3.10541797009516\n\\item -3.10541797009516\n\\item -3.10541797009516\n\\item -3.10541797009516\n\\item -3.10541797009516\n\\item -3.10541797009516\n\\item -3.10541797009516\n\\item -3.10541797009516\n\\item -3.10541797009516\n\\item -3.10541797009516\n\\item -3.10541797009516\n\\item -3.10541797009516\n\\item -3.10541797009516\n\\item -3.10541797009516\n\\item -3.10541797009516\n\\item -3.10541797009516\n\\item -3.10541797009516\n\\item -3.10541797009516\n\\item -3.10541797009516\n\\item -3.49028546514096\n\\item -3.10541797009516\n\\end{enumerate*}\n",
            "text/plain": [
              "  [1] -3.105418 -3.490285 -3.105418 -3.105418 -3.105418 -3.105418 -3.105418\n",
              "  [8] -3.105418 -3.105418 -3.105418 -3.490285 -3.490285 -3.105418 -3.490285\n",
              " [15] -3.105418 -3.490285 -3.105418 -3.105418 -3.105418 -3.105418 -3.105418\n",
              " [22] -3.105418 -3.490285 -3.490285 -3.105418 -3.105418 -3.490285 -3.490285\n",
              " [29] -3.490285 -3.105418 -3.105418 -3.490285 -3.105418 -3.105418 -3.105418\n",
              " [36] -3.490285 -3.105418 -3.490285 -3.105418 -3.105418 -3.105418 -3.105418\n",
              " [43] -3.105418 -3.105418 -3.105418 -3.105418 -3.105418 -3.105418 -3.105418\n",
              " [50] -3.105418 -3.105418 -3.105418 -3.105418 -3.105418 -3.105418 -3.105418\n",
              " [57] -3.105418 -3.105418 -3.490285 -3.105418 -3.105418 -3.105418 -3.105418\n",
              " [64] -3.105418 -3.105418 -3.105418 -3.105418 -3.105418 -3.105418 -3.105418\n",
              " [71] -3.490285 -3.105418 -3.490285 -3.490285 -3.490285 -3.105418 -3.490285\n",
              " [78] -3.105418 -3.490285 -3.490285 -3.490285 -3.105418 -3.490285 -3.105418\n",
              " [85] -3.105418 -3.105418 -3.105418 -3.105418 -3.105418 -3.105418 -3.105418\n",
              " [92] -3.105418 -3.105418 -3.105418 -3.105418 -3.105418 -3.105418 -3.105418\n",
              " [99] -3.105418 -3.105418 -3.105418 -3.105418 -3.105418 -3.105418 -3.105418\n",
              "[106] -3.105418 -3.105418 -3.105418 -3.105418 -3.105418 -3.105418 -3.490285\n",
              "[113] -3.105418"
            ]
          },
          "metadata": {}
        },
        {
          "output_type": "display_data",
          "data": {
            "text/plain": [
              "       V1          \n",
              " Min.   :-3.49029  \n",
              " 1st Qu.:-0.41135  \n",
              " Median :-0.02648  \n",
              " Mean   : 0.00000  \n",
              " 3rd Qu.: 0.74326  \n",
              " Max.   : 2.28273  "
            ]
          },
          "metadata": {}
        },
        {
          "output_type": "display_data",
          "data": {
            "text/plain": [
              "   Min. 1st Qu.  Median    Mean 3rd Qu.    Max. \n",
              "   1.00    9.00   10.00   10.07   12.00   16.00 "
            ]
          },
          "metadata": {}
        }
      ]
    },
    {
      "cell_type": "markdown",
      "source": [
        "#Calculating ZScore and identifying outliers for age\n",
        "---"
      ],
      "metadata": {
        "id": "ejw6-AuIcC5f"
      }
    },
    {
      "cell_type": "code",
      "source": [
        "adultTraining$scaled_age <- scale(x = adultTraining$age)\n",
        "\n",
        "three_sigma_rule <- (adultTraining$scaled_age < -3 | \n",
        "                     adultTraining$scaled_age > 3 )\n",
        "\n",
        "\n",
        "\n",
        "cat (\"There are\", sum(three_sigma_rule), \"outliers \\n\\n\")\n",
        "\n",
        "\n",
        "\n",
        "cat(\"The scaled age values that are outliers: \\n\\n\")\n",
        "adultTraining$scaled_age[which(three_sigma_rule)]\n",
        "\n",
        "summary(adultTraining$scaled_age)\n",
        "summary(adultTraining$age)"
      ],
      "metadata": {
        "colab": {
          "base_uri": "https://localhost:8080/",
          "height": 508
        },
        "id": "0DF2AdWTTPMm",
        "outputId": "67f35f55-765a-4496-cecb-8d98a0f5dce9"
      },
      "execution_count": null,
      "outputs": [
        {
          "output_type": "stream",
          "name": "stdout",
          "text": [
            "There are 60 outliers \n",
            "\n",
            "The scaled age values that are outliers: \n",
            "\n"
          ]
        },
        {
          "output_type": "display_data",
          "data": {
            "text/html": [
              "<style>\n",
              ".list-inline {list-style: none; margin:0; padding: 0}\n",
              ".list-inline>li {display: inline-block}\n",
              ".list-inline>li:not(:last-child)::after {content: \"\\00b7\"; padding: 0 .5ex}\n",
              "</style>\n",
              "<ol class=list-inline><li>3.75122696731239</li><li>3.02017267536798</li><li>3.75122696731239</li><li>3.6050161089235</li><li>3.75122696731239</li><li>3.75122696731239</li><li>3.16638353375686</li><li>3.75122696731239</li><li>3.02017267536798</li><li>3.75122696731239</li><li>3.75122696731239</li><li>3.2394889629513</li><li>3.38569982134018</li><li>3.16638353375686</li><li>3.02017267536798</li><li>3.75122696731239</li><li>3.02017267536798</li><li>3.75122696731239</li><li>3.31259439214574</li><li>3.75122696731239</li><li>3.75122696731239</li><li>3.31259439214574</li><li>3.02017267536798</li><li>3.75122696731239</li><li>3.31259439214574</li><li>3.75122696731239</li><li>3.09327810456242</li><li>3.02017267536798</li><li>3.02017267536798</li><li>3.75122696731239</li><li>3.02017267536798</li><li>3.75122696731239</li><li>3.2394889629513</li><li>3.16638353375686</li><li>3.75122696731239</li><li>3.75122696731239</li><li>3.16638353375686</li><li>3.38569982134018</li><li>3.09327810456242</li><li>3.09327810456242</li><li>3.75122696731239</li><li>3.16638353375686</li><li>3.6050161089235</li><li>3.31259439214574</li><li>3.45880525053462</li><li>3.75122696731239</li><li>3.16638353375686</li><li>3.09327810456242</li><li>3.75122696731239</li><li>3.02017267536798</li><li>3.31259439214574</li><li>3.75122696731239</li><li>3.09327810456242</li><li>3.75122696731239</li><li>3.53191067972906</li><li>3.02017267536798</li><li>3.16638353375686</li><li>3.75122696731239</li><li>3.38569982134018</li><li>3.16638353375686</li></ol>\n"
            ],
            "text/markdown": "1. 3.75122696731239\n2. 3.02017267536798\n3. 3.75122696731239\n4. 3.6050161089235\n5. 3.75122696731239\n6. 3.75122696731239\n7. 3.16638353375686\n8. 3.75122696731239\n9. 3.02017267536798\n10. 3.75122696731239\n11. 3.75122696731239\n12. 3.2394889629513\n13. 3.38569982134018\n14. 3.16638353375686\n15. 3.02017267536798\n16. 3.75122696731239\n17. 3.02017267536798\n18. 3.75122696731239\n19. 3.31259439214574\n20. 3.75122696731239\n21. 3.75122696731239\n22. 3.31259439214574\n23. 3.02017267536798\n24. 3.75122696731239\n25. 3.31259439214574\n26. 3.75122696731239\n27. 3.09327810456242\n28. 3.02017267536798\n29. 3.02017267536798\n30. 3.75122696731239\n31. 3.02017267536798\n32. 3.75122696731239\n33. 3.2394889629513\n34. 3.16638353375686\n35. 3.75122696731239\n36. 3.75122696731239\n37. 3.16638353375686\n38. 3.38569982134018\n39. 3.09327810456242\n40. 3.09327810456242\n41. 3.75122696731239\n42. 3.16638353375686\n43. 3.6050161089235\n44. 3.31259439214574\n45. 3.45880525053462\n46. 3.75122696731239\n47. 3.16638353375686\n48. 3.09327810456242\n49. 3.75122696731239\n50. 3.02017267536798\n51. 3.31259439214574\n52. 3.75122696731239\n53. 3.09327810456242\n54. 3.75122696731239\n55. 3.53191067972906\n56. 3.02017267536798\n57. 3.16638353375686\n58. 3.75122696731239\n59. 3.38569982134018\n60. 3.16638353375686\n\n\n",
            "text/latex": "\\begin{enumerate*}\n\\item 3.75122696731239\n\\item 3.02017267536798\n\\item 3.75122696731239\n\\item 3.6050161089235\n\\item 3.75122696731239\n\\item 3.75122696731239\n\\item 3.16638353375686\n\\item 3.75122696731239\n\\item 3.02017267536798\n\\item 3.75122696731239\n\\item 3.75122696731239\n\\item 3.2394889629513\n\\item 3.38569982134018\n\\item 3.16638353375686\n\\item 3.02017267536798\n\\item 3.75122696731239\n\\item 3.02017267536798\n\\item 3.75122696731239\n\\item 3.31259439214574\n\\item 3.75122696731239\n\\item 3.75122696731239\n\\item 3.31259439214574\n\\item 3.02017267536798\n\\item 3.75122696731239\n\\item 3.31259439214574\n\\item 3.75122696731239\n\\item 3.09327810456242\n\\item 3.02017267536798\n\\item 3.02017267536798\n\\item 3.75122696731239\n\\item 3.02017267536798\n\\item 3.75122696731239\n\\item 3.2394889629513\n\\item 3.16638353375686\n\\item 3.75122696731239\n\\item 3.75122696731239\n\\item 3.16638353375686\n\\item 3.38569982134018\n\\item 3.09327810456242\n\\item 3.09327810456242\n\\item 3.75122696731239\n\\item 3.16638353375686\n\\item 3.6050161089235\n\\item 3.31259439214574\n\\item 3.45880525053462\n\\item 3.75122696731239\n\\item 3.16638353375686\n\\item 3.09327810456242\n\\item 3.75122696731239\n\\item 3.02017267536798\n\\item 3.31259439214574\n\\item 3.75122696731239\n\\item 3.09327810456242\n\\item 3.75122696731239\n\\item 3.53191067972906\n\\item 3.02017267536798\n\\item 3.16638353375686\n\\item 3.75122696731239\n\\item 3.38569982134018\n\\item 3.16638353375686\n\\end{enumerate*}\n",
            "text/plain": [
              " [1] 3.751227 3.020173 3.751227 3.605016 3.751227 3.751227 3.166384 3.751227\n",
              " [9] 3.020173 3.751227 3.751227 3.239489 3.385700 3.166384 3.020173 3.751227\n",
              "[17] 3.020173 3.751227 3.312594 3.751227 3.751227 3.312594 3.020173 3.751227\n",
              "[25] 3.312594 3.751227 3.093278 3.020173 3.020173 3.751227 3.020173 3.751227\n",
              "[33] 3.239489 3.166384 3.751227 3.751227 3.166384 3.385700 3.093278 3.093278\n",
              "[41] 3.751227 3.166384 3.605016 3.312594 3.458805 3.751227 3.166384 3.093278\n",
              "[49] 3.751227 3.020173 3.312594 3.751227 3.093278 3.751227 3.531911 3.020173\n",
              "[57] 3.166384 3.751227 3.385700 3.166384"
            ]
          },
          "metadata": {}
        },
        {
          "output_type": "display_data",
          "data": {
            "text/plain": [
              "       V1         \n",
              " Min.   :-1.5855  \n",
              " 1st Qu.:-0.7813  \n",
              " Median :-0.1234  \n",
              " Mean   : 0.0000  \n",
              " 3rd Qu.: 0.6808  \n",
              " Max.   : 3.7512  "
            ]
          },
          "metadata": {}
        },
        {
          "output_type": "display_data",
          "data": {
            "text/plain": [
              "   Min. 1st Qu.  Median    Mean 3rd Qu.    Max. \n",
              "  17.00   28.00   37.00   38.69   48.00   90.00 "
            ]
          },
          "metadata": {}
        }
      ]
    },
    {
      "cell_type": "markdown",
      "source": [
        "#Plotting the people over 80 in a histogram\n",
        "---"
      ],
      "metadata": {
        "id": "HVXwuacxcEYh"
      }
    },
    {
      "cell_type": "code",
      "source": [
        "library(\"ggplot2\")\n",
        "\n",
        "# the contingency table for $job vs. $y variables\n",
        "age_over_80 <- (adultTraining$age > 80)\n",
        " \n",
        "   \n",
        "hist(adultTraining$age[which(age_over_80)], xlab = \"Age\", \n",
        "       main = \"Histogram of pdays - Missing Values replaced by NA\", col=\"orange\")"
      ],
      "metadata": {
        "colab": {
          "base_uri": "https://localhost:8080/",
          "height": 437
        },
        "id": "a72W0KTyTv_g",
        "outputId": "7b38da0a-4fab-4fa7-a063-62da8212eb6c"
      },
      "execution_count": null,
      "outputs": [
        {
          "output_type": "display_data",
          "data": {
            "text/plain": [
              "Plot with title “Histogram of pdays - Missing Values replaced by NA”"
            ],
            "image/png": "[encoded data removed]"
          },
          "metadata": {
            "image/png": {
              "width": 420,
              "height": 420
            }
          }
        }
      ]
    },
    {
      "cell_type": "markdown",
      "source": [
        "#Summary\n",
        "---\n",
        "The most extreme outlier for age in this group was 90. This also shows an age anomaly where an unlikely number of workers are 90 years old. "
      ],
      "metadata": {
        "id": "N1i6D7ayVP0T"
      }
    }
  ]
}